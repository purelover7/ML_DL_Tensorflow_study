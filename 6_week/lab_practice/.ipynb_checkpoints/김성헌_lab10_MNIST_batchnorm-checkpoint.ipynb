{
 "cells": [
  {
   "cell_type": "markdown",
   "metadata": {},
   "source": [
    "# MNIST 학습. batch normalization"
   ]
  },
  {
   "cell_type": "code",
   "execution_count": 1,
   "metadata": {
    "collapsed": false
   },
   "outputs": [
    {
     "name": "stdout",
     "output_type": "stream",
     "text": [
      "Extracting MNIST_data/train-images-idx3-ubyte.gz\n",
      "Extracting MNIST_data/train-labels-idx1-ubyte.gz\n",
      "Extracting MNIST_data/t10k-images-idx3-ubyte.gz\n",
      "Extracting MNIST_data/t10k-labels-idx1-ubyte.gz\n",
      "Epoch: 0001 cost =  0.180447327\n",
      "Epoch: 0002 cost =  0.080435759\n",
      "Epoch: 0003 cost =  0.061513538\n",
      "Epoch: 0004 cost =  0.049596427\n",
      "Epoch: 0005 cost =  0.039226564\n",
      "Epoch: 0006 cost =  0.031672397\n",
      "Epoch: 0007 cost =  0.030425674\n",
      "Epoch: 0008 cost =  0.029655965\n",
      "Epoch: 0009 cost =  0.024695215\n",
      "Epoch: 0010 cost =  0.025774556\n",
      "Epoch: 0011 cost =  0.020356627\n",
      "Epoch: 0012 cost =  0.017707784\n",
      "Epoch: 0013 cost =  0.020121188\n",
      "Epoch: 0014 cost =  0.013947645\n",
      "Epoch: 0015 cost =  0.014776110\n",
      "Learning Finished!\n",
      "Accuracy: 0.9779\n"
     ]
    }
   ],
   "source": [
    "import tensorflow as tf\n",
    "import matplotlib.pyplot as plt\n",
    "from tensorflow.examples.tutorials.mnist import input_data\n",
    "\n",
    "mnist = input_data.read_data_sets(\"MNIST_data/\", one_hot=True)\n",
    "\n",
    "# parameters\n",
    "learning_rate = 0.001\n",
    "training_epochs = 15\n",
    "batch_size = 100\n",
    "\n",
    "# input placeholder\n",
    "X = tf.placeholder(tf.float32, [None, 784])\n",
    "Y = tf.placeholder(tf.float32, [None, 10])\n",
    "phase = tf.placeholder(tf.bool, name='phase')\n",
    "\n",
    "# weights & bias for nn layers\n",
    "W1=tf.get_variable(\"W1\", shape=[784, 512], initializer=tf.contrib.layers.xavier_initializer())\n",
    "#W1=tf.Variable(tf.random_normal([784, 512]))\n",
    "b1=tf.Variable(tf.random_normal([512]))\n",
    "L1=tf.matmul(X,W1) + b1\n",
    "#L1=tf.layers.batch_normalization(L1)\n",
    "L1=tf.contrib.layers.batch_norm(L1, center=True, scale=True, is_training=phase)\n",
    "L1=tf.nn.relu(L1)\n",
    "\n",
    "W2=tf.get_variable(\"W2\", shape=[512, 512], initializer=tf.contrib.layers.xavier_initializer())\n",
    "#W2=tf.Variable(tf.random_normal([512, 512]))\n",
    "b2=tf.Variable(tf.random_normal([512]))\n",
    "L2=tf.matmul(L1,W2) + b2\n",
    "#L2=tf.layers.batch_normalization(L2)\n",
    "L2=tf.contrib.layers.batch_norm(L2, center=True, scale=True, is_training=phase)\n",
    "L2=tf.nn.relu(L2)\n",
    "\n",
    "W3=tf.get_variable(\"W3\", shape=[512, 512], initializer=tf.contrib.layers.xavier_initializer())\n",
    "#W3=tf.Variable(tf.random_normal([512, 512]))\n",
    "b3=tf.Variable(tf.random_normal([512]))\n",
    "L3=tf.matmul(L2,W3) + b3\n",
    "#L3=tf.layers.batch_normalization(L3)\n",
    "L3=tf.contrib.layers.batch_norm(L3, center=True, scale=True, is_training=phase)\n",
    "L3=tf.nn.relu(L3)\n",
    "\n",
    "W4=tf.get_variable(\"W4\", shape=[512, 512], initializer=tf.contrib.layers.xavier_initializer())\n",
    "#W4=tf.Variable(tf.random_normal([512, 512]))\n",
    "b4=tf.Variable(tf.random_normal([512]))\n",
    "L4=tf.matmul(L3,W4) + b4\n",
    "#L4=tf.layers.batch_normalization(L4)\n",
    "L4=tf.contrib.layers.batch_norm(L4, center=True, scale=True, is_training=phase)\n",
    "L4=tf.nn.relu(L4)\n",
    "\n",
    "W5=tf.get_variable(\"W5\", shape=[512, 10], initializer=tf.contrib.layers.xavier_initializer())\n",
    "#W5=tf.Variable(tf.random_normal([512, 10]))\n",
    "b5=tf.Variable(tf.random_normal([10]))\n",
    "hypothesis=tf.matmul(L4,W5) + b5\n",
    "\n",
    "# define cost/loss & optimizer\n",
    "cost = tf.reduce_mean(tf.nn.softmax_cross_entropy_with_logits(logits=hypothesis, labels=Y))\n",
    "\n",
    "# When using the batchnormalization layers,\n",
    "# it is necessary to manually add the update operations\n",
    "# because the moving averages are not included in the graph            \n",
    "update_ops = tf.get_collection(tf.GraphKeys.UPDATE_OPS)\n",
    "with tf.control_dependencies(update_ops):\n",
    "    optimizer=tf.train.AdamOptimizer(learning_rate=learning_rate).minimize(cost)\n",
    "\n",
    "# initialize\n",
    "sess=tf.Session()\n",
    "sess.run(tf.global_variables_initializer())\n",
    "\n",
    "# train model\n",
    "for epoch in range(training_epochs):\n",
    "    avg_cost = 0\n",
    "    total_batch = int(mnist.train.num_examples / batch_size)\n",
    "    for i in range(total_batch):\n",
    "        batch_xs, batch_ys = mnist.train.next_batch(batch_size)\n",
    "        feed_dict = {X: batch_xs, Y: batch_ys, phase: 1}\n",
    "        c, _ = sess.run([cost, optimizer], feed_dict=feed_dict)\n",
    "        avg_cost += c / total_batch\n",
    "    print('Epoch:', '%04d' % (epoch + 1), 'cost = ', '{:.9f}'.format(avg_cost))\n",
    "print('Learning Finished!')\n",
    "\n",
    "# test model and check accuracy\n",
    "correct_prediction = tf.equal(tf.argmax(hypothesis, 1), tf.argmax(Y, 1))\n",
    "accuracy = tf.reduce_mean(tf.cast(correct_prediction, tf.float32))\n",
    "print('Accuracy:', sess.run(accuracy, feed_dict={X: mnist.test.images, Y: mnist.test.labels, phase: 0}))"
   ]
  },
  {
   "cell_type": "code",
   "execution_count": null,
   "metadata": {
    "collapsed": true
   },
   "outputs": [],
   "source": []
  }
 ],
 "metadata": {
  "kernelspec": {
   "display_name": "Python [conda root]",
   "language": "python",
   "name": "conda-root-py"
  },
  "language_info": {
   "codemirror_mode": {
    "name": "ipython",
    "version": 3
   },
   "file_extension": ".py",
   "mimetype": "text/x-python",
   "name": "python",
   "nbconvert_exporter": "python",
   "pygments_lexer": "ipython3",
   "version": "3.5.2"
  }
 },
 "nbformat": 4,
 "nbformat_minor": 1
}
