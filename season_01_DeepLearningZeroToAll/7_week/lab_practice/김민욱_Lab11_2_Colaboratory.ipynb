{
 "cells": [
  {
   "cell_type": "markdown",
   "metadata": {
    "colab_type": "text",
    "id": "nZEVLJCBkk_u"
   },
   "source": [
    "# Lab11-2"
   ]
  },
  {
   "cell_type": "markdown",
   "metadata": {
    "colab_type": "text",
    "id": "C3czScAnkVTQ"
   },
   "source": [
    "## Source1 - CNN_MNIST2(More Deep, Dropout)"
   ]
  },
  {
   "cell_type": "code",
   "execution_count": 1,
   "metadata": {
    "colab": {
     "autoexec": {
      "startup": false,
      "wait_interval": 0
     },
     "base_uri": "https://localhost:8080/",
     "height": 539,
     "output_extras": [
      {
       "item_id": 19
      }
     ]
    },
    "colab_type": "code",
    "executionInfo": {
     "elapsed": 102998,
     "status": "ok",
     "timestamp": 1520562379863,
     "user": {
      "displayName": "김민욱",
      "photoUrl": "https://lh3.googleusercontent.com/a/default-user=s128",
      "userId": "108006258518439830382"
     },
     "user_tz": -540
    },
    "id": "ubIV0CDzPrup",
    "outputId": "a4a8c409-ae2c-41a0-cbee-b61bd55b0ee7"
   },
   "outputs": [
    {
     "name": "stdout",
     "output_type": "stream",
     "text": [
      "Extracting MNIST_data/train-images-idx3-ubyte.gz\n",
      "Extracting MNIST_data/train-labels-idx1-ubyte.gz\n",
      "Extracting MNIST_data/t10k-images-idx3-ubyte.gz\n",
      "Extracting MNIST_data/t10k-labels-idx1-ubyte.gz\n",
      "WARNING:tensorflow:From <ipython-input-1-016673622212>:60: softmax_cross_entropy_with_logits (from tensorflow.python.ops.nn_ops) is deprecated and will be removed in a future version.\n",
      "Instructions for updating:\n",
      "\n",
      "Future major versions of TensorFlow will allow gradients to flow\n",
      "into the labels input on backprop by default.\n",
      "\n",
      "See tf.nn.softmax_cross_entropy_with_logits_v2.\n",
      "\n",
      "Epoch: 0001 cost = 0.416374410\n",
      "Epoch: 0002 cost = 0.099702654\n",
      "Epoch: 0003 cost = 0.076326296\n",
      "Epoch: 0004 cost = 0.061566270\n",
      "Epoch: 0005 cost = 0.055902315\n",
      "Epoch: 0006 cost = 0.048094412\n",
      "Epoch: 0007 cost = 0.044990774\n",
      "Epoch: 0008 cost = 0.040231046\n",
      "Epoch: 0009 cost = 0.038482562\n",
      "Epoch: 0010 cost = 0.034775018\n",
      "Epoch: 0011 cost = 0.033566303\n",
      "Epoch: 0012 cost = 0.031466931\n",
      "Epoch: 0013 cost = 0.029750194\n",
      "Epoch: 0014 cost = 0.029086588\n",
      "Epoch: 0015 cost = 0.025498839\n",
      "Learning Time =  98.31931710243225\n",
      "Accuracy:  0.993\n"
     ]
    }
   ],
   "source": [
    "import tensorflow as tf\n",
    "from tensorflow.examples.tutorials.mnist import input_data\n",
    "import time\n",
    "\n",
    "mnist = input_data.read_data_sets(\"MNIST_data/\", one_hot=True)\n",
    "\n",
    "X = tf.placeholder(tf.float32, shape=[None, 784])\n",
    "X_img = tf.reshape(X, [-1, 28, 28, 1]) # img 28*28*1(BW Image)\n",
    "Y = tf.placeholder(tf.float32, shape=[None, 10])\n",
    "keep_prob = tf.placeholder(tf.float32)\n",
    "\n",
    "# L1 ImgIn shape=(?, 28, 28, 1)\n",
    "W1 = tf.Variable(tf.random_normal([3, 3, 1, 32], stddev=0.01))\n",
    "# Conv -> (?, 28, 28, 32)\n",
    "L1 = tf.nn.conv2d(X_img, W1, strides=[1, 1, 1, 1], padding='SAME')\n",
    "L1 = tf.nn.relu(L1)\n",
    "# Pool -> (?, 14, 14, 32)\n",
    "L1 = tf.nn.max_pool(L1, ksize=[1, 2, 2, 1], \n",
    "                    strides=[1, 2, 2, 1], padding='SAME')\n",
    "L1 = tf.nn.dropout(L1, keep_prob=keep_prob)\n",
    "\n",
    "# L2 ImgIn shape=(?, 14, 14, 32)\n",
    "W2 = tf.Variable(tf.random_normal([3, 3, 32, 64], stddev=0.01))\n",
    "# Conv -> (?, 14, 14, 64)\n",
    "L2 = tf.nn.conv2d(L1, W2, strides=[1, 1, 1, 1], padding='SAME')\n",
    "L2 = tf.nn.relu(L2)\n",
    "# Pool -> (?, 7, 7, 64)\n",
    "L2 = tf.nn.max_pool(L2, ksize=[1, 2, 2, 1], \n",
    "                    strides=[1, 2, 2, 1], padding='SAME')\n",
    "L2 = tf.nn.dropout(L2, keep_prob=keep_prob)\n",
    "\n",
    "# L3 ImgIn shape=(?, 7, 7, 128)\n",
    "W3 = tf.Variable(tf.random_normal([3, 3, 64, 128], stddev=0.01))\n",
    "# Conv -> (?, 7, 7, 128)\n",
    "L3 = tf.nn.conv2d(L2, W3, strides=[1, 1, 1, 1], padding='SAME')\n",
    "L3 = tf.nn.relu(L3)\n",
    "# Pool -> (?, 4, 4, 128)\n",
    "L3 = tf.nn.max_pool(L3, ksize=[1, 2, 2, 1], \n",
    "                    strides=[1, 2, 2, 1], padding='SAME')\n",
    "L3 = tf.nn.dropout(L3, keep_prob=keep_prob)\n",
    "\n",
    "# reshape = (?, 3136)\n",
    "L3 = tf.reshape(L3, [-1, 4*4*128])\n",
    "\n",
    "# L4 fully Connected Layer\n",
    "W4 = tf.get_variable(\"W4\", shape=[4*4*128, 625], initializer=tf.contrib.layers.xavier_initializer())\n",
    "b4 = tf.Variable(tf.random_normal([1, 625]))\n",
    "L4 = tf.nn.relu(tf.matmul(L3, W4)+b4)\n",
    "L4 = tf.nn.dropout(L4, keep_prob=keep_prob)\n",
    "\n",
    "# L5 Final FC 625 input -> 10 output\n",
    "W5 = tf.get_variable(\"W5\", shape=[625, 10], initializer=tf.contrib.layers.xavier_initializer())\n",
    "b5 = tf.Variable(tf.random_normal([1, 10]))\n",
    "\n",
    "# define Hypothesis\n",
    "logits = tf.matmul(L4, W5)+b5\n",
    "hypothesis = tf.nn.softmax(logits)\n",
    "\n",
    "# define cost\n",
    "cost_i = tf.nn.softmax_cross_entropy_with_logits(logits=logits, labels=Y)\n",
    "cost = tf.reduce_mean(cost_i)\n",
    "\n",
    "# define gradient\n",
    "gradient = tf.train.AdamOptimizer(learning_rate=0.001).minimize(cost)\n",
    "\n",
    "# calc accuracy\n",
    "prediction = tf.argmax(hypothesis, 1)\n",
    "answer = tf.argmax(Y, 1)\n",
    "accuracy = tf.reduce_mean( tf.cast( tf.equal(prediction, answer), dtype=tf.float32)) \n",
    "\n",
    "# init network\n",
    "sess = tf.Session()\n",
    "sess.run(tf.global_variables_initializer())\n",
    "\n",
    "# go implement\n",
    "traing_epoch = 15\n",
    "batch_size = 100\n",
    "\n",
    "total_recur = 0\n",
    "\n",
    "start_time = time.time()\n",
    "for epoch in range(traing_epoch):\n",
    "    avg_cost = 0.0\n",
    "    total_batch = int(mnist.train.num_examples/batch_size)\n",
    "    \n",
    "    for batch in range(total_batch):\n",
    "        batch_X, batch_Y = mnist.train.next_batch(batch_size)\n",
    "        cost_, _ = sess.run([cost, gradient], feed_dict={X: batch_X, Y:batch_Y, keep_prob:0.7})\n",
    "        avg_cost += cost_/total_batch\n",
    "        total_recur = total_recur + 1\n",
    "        \n",
    "    print('Epoch:', '%04d' % (epoch + 1), 'cost =', '{:.9f}'.format(avg_cost))\n",
    "\n",
    "end_time = time.time()\n",
    "print('Learning Time = ', end_time-start_time)\n",
    "# implement accuracy\n",
    "print(\"Accuracy: \", sess.run(accuracy, feed_dict={X: mnist.test.images, Y:mnist.test.labels, keep_prob:1.0} ) )"
   ]
  },
  {
   "cell_type": "markdown",
   "metadata": {
    "colab": {
     "autoexec": {
      "startup": false,
      "wait_interval": 0
     }
    },
    "colab_type": "code",
    "id": "uqir-n6Dj6se"
   },
   "source": [
    "[Colaboratory](https://jovianlin.io/pytorch-with-gpu-in-google-colab/)"
   ]
  },
  {
   "cell_type": "code",
   "execution_count": null,
   "metadata": {
    "collapsed": true
   },
   "outputs": [],
   "source": []
  }
 ],
 "metadata": {
  "accelerator": "GPU",
  "colab": {
   "default_view": {},
   "name": "김민욱_Lab11-2_Colaboratory.ipynb",
   "provenance": [],
   "version": "0.3.2",
   "views": {}
  },
  "kernelspec": {
   "display_name": "Python 3",
   "language": "python",
   "name": "python3"
  },
  "language_info": {
   "codemirror_mode": {
    "name": "ipython",
    "version": 3
   },
   "file_extension": ".py",
   "mimetype": "text/x-python",
   "name": "python",
   "nbconvert_exporter": "python",
   "pygments_lexer": "ipython3",
   "version": "3.6.1"
  }
 },
 "nbformat": 4,
 "nbformat_minor": 1
}
