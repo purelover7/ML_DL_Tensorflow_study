{
 "cells": [
  {
   "cell_type": "markdown",
   "metadata": {},
   "source": [
    "# tensorflow reduce_mean 함수 테스트\n",
    "\n",
    "reduce_mean(\n",
    "\n",
    "    input_tensor,\n",
    "    axis=None,\n",
    "    keep_dims=False,\n",
    "    name=None,\n",
    "    reduction_indices=None\n",
    ")\n",
    "\n",
    "https://www.tensorflow.org/api_docs/python/tf/reduce_mean"
   ]
  },
  {
   "cell_type": "code",
   "execution_count": 1,
   "metadata": {
    "collapsed": true
   },
   "outputs": [],
   "source": [
    "import tensorflow as tf\n",
    "import numpy as np"
   ]
  },
  {
   "cell_type": "code",
   "execution_count": 2,
   "metadata": {
    "collapsed": true
   },
   "outputs": [],
   "source": [
    "sess = tf.Session()"
   ]
  },
  {
   "cell_type": "code",
   "execution_count": 3,
   "metadata": {
    "collapsed": false,
    "scrolled": true
   },
   "outputs": [
    {
     "data": {
      "text/plain": [
       "(2, 3)"
      ]
     },
     "execution_count": 3,
     "metadata": {},
     "output_type": "execute_result"
    }
   ],
   "source": [
    "x = [[1.,1.,1.]\n",
    "   , [2.,2.,2.]]\n",
    "np.array(x).shape"
   ]
  },
  {
   "cell_type": "code",
   "execution_count": 4,
   "metadata": {
    "collapsed": false
   },
   "outputs": [
    {
     "name": "stdout",
     "output_type": "stream",
     "text": [
      "1.5 ()\n"
     ]
    }
   ],
   "source": [
    "m = tf.reduce_mean(x)\n",
    "print(sess.run(m), m.shape)"
   ]
  },
  {
   "cell_type": "code",
   "execution_count": 5,
   "metadata": {
    "collapsed": false
   },
   "outputs": [
    {
     "name": "stdout",
     "output_type": "stream",
     "text": [
      "[ 1.5  1.5  1.5] (3,)\n"
     ]
    }
   ],
   "source": [
    "m = tf.reduce_mean(x, 0)\n",
    "print(sess.run(m), m.shape)"
   ]
  },
  {
   "cell_type": "code",
   "execution_count": 6,
   "metadata": {
    "collapsed": false
   },
   "outputs": [
    {
     "name": "stdout",
     "output_type": "stream",
     "text": [
      "[ 1.  2.] (2,)\n"
     ]
    }
   ],
   "source": [
    "m = tf.reduce_mean(x, 1)\n",
    "print(sess.run(m), m.shape)"
   ]
  },
  {
   "cell_type": "code",
   "execution_count": 7,
   "metadata": {
    "collapsed": false
   },
   "outputs": [
    {
     "data": {
      "text/plain": [
       "(2, 3, 4)"
      ]
     },
     "execution_count": 7,
     "metadata": {},
     "output_type": "execute_result"
    }
   ],
   "source": [
    "y = [\n",
    "        [\n",
    "            [1.,1.,1.,1.]\n",
    "          , [2.,2.,2.,2.]\n",
    "          , [3.,3.,3.,3.]\n",
    "        ]\n",
    "     , [\n",
    "            [4.,4.,4.,4.]\n",
    "          , [5.,5.,5.,5.]\n",
    "          , [6.,6.,6.,6.]\n",
    "       ]\n",
    "    ]\n",
    "np.array(y).shape"
   ]
  },
  {
   "cell_type": "code",
   "execution_count": 8,
   "metadata": {
    "collapsed": false
   },
   "outputs": [
    {
     "name": "stdout",
     "output_type": "stream",
     "text": [
      "3.5 ()\n"
     ]
    }
   ],
   "source": [
    "m = tf.reduce_mean(y)\n",
    "print(sess.run(m), m.shape)"
   ]
  },
  {
   "cell_type": "code",
   "execution_count": 9,
   "metadata": {
    "collapsed": false
   },
   "outputs": [
    {
     "name": "stdout",
     "output_type": "stream",
     "text": [
      "[[ 2.5  2.5  2.5  2.5]\n",
      " [ 3.5  3.5  3.5  3.5]\n",
      " [ 4.5  4.5  4.5  4.5]] (3, 4)\n"
     ]
    }
   ],
   "source": [
    "m = tf.reduce_mean(y, 0)\n",
    "print(sess.run(m), m.shape)"
   ]
  },
  {
   "cell_type": "code",
   "execution_count": 10,
   "metadata": {
    "collapsed": false,
    "scrolled": true
   },
   "outputs": [
    {
     "name": "stdout",
     "output_type": "stream",
     "text": [
      "[[ 2.  2.  2.  2.]\n",
      " [ 5.  5.  5.  5.]] (2, 4)\n"
     ]
    }
   ],
   "source": [
    "m = tf.reduce_mean(y, 1)\n",
    "print(sess.run(m), m.shape)"
   ]
  },
  {
   "cell_type": "code",
   "execution_count": 11,
   "metadata": {
    "collapsed": false
   },
   "outputs": [
    {
     "name": "stdout",
     "output_type": "stream",
     "text": [
      "[[ 1.  2.  3.]\n",
      " [ 4.  5.  6.]] (2, 3)\n"
     ]
    }
   ],
   "source": [
    "m = tf.reduce_mean(y, 2)\n",
    "print(sess.run(m), m.shape)"
   ]
  },
  {
   "cell_type": "code",
   "execution_count": 12,
   "metadata": {
    "collapsed": false
   },
   "outputs": [
    {
     "name": "stdout",
     "output_type": "stream",
     "text": [
      "[ 3.5  3.5  3.5  3.5] (4,)\n"
     ]
    }
   ],
   "source": [
    "m = tf.reduce_mean(y, [0,1])\n",
    "print(sess.run(m), m.shape)"
   ]
  },
  {
   "cell_type": "code",
   "execution_count": 13,
   "metadata": {
    "collapsed": false
   },
   "outputs": [
    {
     "name": "stdout",
     "output_type": "stream",
     "text": [
      "[ 2.5  3.5  4.5] (3,)\n"
     ]
    }
   ],
   "source": [
    "m = tf.reduce_mean(y, [0,2])\n",
    "print(sess.run(m), m.shape)"
   ]
  },
  {
   "cell_type": "code",
   "execution_count": 14,
   "metadata": {
    "collapsed": false
   },
   "outputs": [
    {
     "name": "stdout",
     "output_type": "stream",
     "text": [
      "[ 2.5  3.5  4.5] (3,)\n"
     ]
    }
   ],
   "source": [
    "m = tf.reduce_mean(y, [-3,2])\n",
    "print(sess.run(m), m.shape)"
   ]
  },
  {
   "cell_type": "code",
   "execution_count": 15,
   "metadata": {
    "collapsed": false
   },
   "outputs": [
    {
     "name": "stdout",
     "output_type": "stream",
     "text": [
      "3.5 ()\n"
     ]
    }
   ],
   "source": [
    "m = tf.reduce_mean(y, [0,1,2])\n",
    "print(sess.run(m), m.shape)"
   ]
  }
 ],
 "metadata": {
  "kernelspec": {
   "display_name": "Python [conda root]",
   "language": "python",
   "name": "conda-root-py"
  },
  "language_info": {
   "codemirror_mode": {
    "name": "ipython",
    "version": 3
   },
   "file_extension": ".py",
   "mimetype": "text/x-python",
   "name": "python",
   "nbconvert_exporter": "python",
   "pygments_lexer": "ipython3",
   "version": "3.5.2"
  }
 },
 "nbformat": 4,
 "nbformat_minor": 1
}
