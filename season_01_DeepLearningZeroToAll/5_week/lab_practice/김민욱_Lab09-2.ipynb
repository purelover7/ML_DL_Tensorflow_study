{
 "cells": [
  {
   "cell_type": "markdown",
   "metadata": {},
   "source": [
    "# Lab 09-2"
   ]
  },
  {
   "cell_type": "markdown",
   "metadata": {},
   "source": [
    "## Source1 - not Deep"
   ]
  },
  {
   "cell_type": "code",
   "execution_count": 1,
   "metadata": {
    "scrolled": true
   },
   "outputs": [
    {
     "name": "stdout",
     "output_type": "stream",
     "text": [
      "0 Cost :  0.802304\n",
      "1000 Cost :  0.69316\n",
      "2000 Cost :  0.693147\n",
      "3000 Cost :  0.693147\n",
      "4000 Cost :  0.693147\n",
      "5000 Cost :  0.693147\n",
      "6000 Cost :  0.693147\n",
      "7000 Cost :  0.693147\n",
      "8000 Cost :  0.693147\n",
      "9000 Cost :  0.693147\n",
      "10000 Cost :  0.693147\n",
      "[array([[ 0.5],\n",
      "       [ 0.5],\n",
      "       [ 0.5],\n",
      "       [ 0.5]], dtype=float32), array([[ 0.],\n",
      "       [ 0.],\n",
      "       [ 0.],\n",
      "       [ 0.]], dtype=float32), 0.5]\n"
     ]
    }
   ],
   "source": [
    "import tensorflow as tf\n",
    "import numpy as np\n",
    "\n",
    "# input data\n",
    "x_data = np.array([[0, 0], [1, 0], [0, 1], [1, 1]], dtype = np.float32)\n",
    "y_data = np.array([[0], [1], [1], [0]], dtype=np.float32)\n",
    "\n",
    "X = tf.placeholder(tf.float32, [None, 2])\n",
    "Y = tf.placeholder(tf.float32, [None, 1])\n",
    "\n",
    "W = tf.Variable(tf.random_normal([2, 1]))\n",
    "b = tf.Variable(tf.random_normal([1]))\n",
    "\n",
    "# define hypothesis\n",
    "hypothesis = tf.sigmoid(tf.matmul(X, W) + b)\n",
    "\n",
    "# cost/loss function\n",
    "cost = - tf.reduce_mean(Y*tf.log(hypothesis)+(1-Y)*tf.log(1-hypothesis))\n",
    "\n",
    "# define gradient\n",
    "gradient = tf.train.GradientDescentOptimizer(learning_rate=0.1).minimize(cost)\n",
    "\n",
    "# Accuracy Computation\n",
    "predicted = tf.cast(hypothesis > 0.5, dtype=tf.float32)\n",
    "accuracy = tf.reduce_mean(tf.cast(tf.equal(predicted, Y), dtype=tf.float32 ))\n",
    "\n",
    "# init network\n",
    "sess = tf.Session()\n",
    "sess.run(tf.global_variables_initializer())\n",
    "\n",
    "# tensor board setting\n",
    "tf.summary.scalar(\"cost\", cost)\n",
    "tf.summary.scalar(\"accuracy\", accuracy)\n",
    "summary = tf.summary.merge_all()\n",
    "writer = tf.summary.FileWriter(\"./log/xor/not_deep\")\n",
    "\n",
    "# write main source\n",
    "for step in range(10001):\n",
    "    cost_, s_, _ = sess.run([cost, summary, gradient], feed_dict={X: x_data, Y: y_data})\n",
    "    writer.add_summary(s_, global_step=step)\n",
    "    \n",
    "    if step % 1000 == 0:\n",
    "        print(step, \"Cost : \", cost_)\n",
    "        \n",
    "\n",
    "# write result\n",
    "print( sess.run([hypothesis, predicted, accuracy], feed_dict={X: x_data, Y: y_data}) )\n",
    "\n",
    "sess.close()"
   ]
  },
  {
   "cell_type": "markdown",
   "metadata": {},
   "source": [
    "![tensorboard](./김민욱_not_deep.PNG)"
   ]
  },
  {
   "cell_type": "markdown",
   "metadata": {},
   "source": [
    "## Source2 - Deep"
   ]
  },
  {
   "cell_type": "code",
   "execution_count": 1,
   "metadata": {},
   "outputs": [
    {
     "name": "stdout",
     "output_type": "stream",
     "text": [
      "0 Cost :  0.863361\n",
      "1000 Cost :  0.64668\n",
      "2000 Cost :  0.548163\n",
      "3000 Cost :  0.482715\n",
      "4000 Cost :  0.276152\n",
      "5000 Cost :  0.0963314\n",
      "6000 Cost :  0.0517191\n",
      "7000 Cost :  0.0346474\n",
      "8000 Cost :  0.0258704\n",
      "9000 Cost :  0.0205723\n",
      "10000 Cost :  0.0170421\n",
      "[array([[ 0.01918324],\n",
      "       [ 0.9845649 ],\n",
      "       [ 0.9845143 ],\n",
      "       [ 0.01747015]], dtype=float32), array([[ 0.],\n",
      "       [ 1.],\n",
      "       [ 1.],\n",
      "       [ 0.]], dtype=float32), 1.0]\n"
     ]
    }
   ],
   "source": [
    "import tensorflow as tf\n",
    "import numpy as np\n",
    "\n",
    "# input data\n",
    "x_data = np.array([[0, 0], [1, 0], [0, 1], [1, 1]], dtype=np.float32)\n",
    "y_data = np.array([[0], [1], [1], [0]], dtype=np.float32)\n",
    "\n",
    "# construct network\n",
    "X = tf.placeholder(tf.float32, [None, 2])\n",
    "Y = tf.placeholder(tf.float32, [None, 1])\n",
    "\n",
    "W1 = tf.Variable(tf.random_normal([2, 2]), dtype=tf.float32, name='W1')\n",
    "b1 = tf.Variable(tf.random_normal([2]), dtype=tf.float32, name='b1')\n",
    "\n",
    "W2 = tf.Variable(tf.random_normal([2, 1]), dtype=tf.float32, name='W2')\n",
    "b2 = tf.Variable(tf.random_normal([1]), dtype=tf.float32, name='b2')\n",
    "\n",
    "# hypothesis\n",
    "hypo1 = tf.sigmoid(tf.matmul(X, W1) + b1)\n",
    "hypothesis = tf.sigmoid(tf.matmul(hypo1, W2) + b2)\n",
    "\n",
    "# cost/loss function\n",
    "cost = - tf.reduce_mean(Y * tf.log(hypothesis) + (1 - Y) * tf.log(1 - hypothesis))\n",
    "\n",
    "# define gradient\n",
    "gradient = tf.train.GradientDescentOptimizer(learning_rate=0.1).minimize(cost)\n",
    "\n",
    "# Accuracy Computation\n",
    "predicted = tf.cast(hypothesis > 0.5, dtype=tf.float32)\n",
    "accuracy = tf.reduce_mean(tf.cast(tf.equal(predicted, Y), dtype=tf.float32))\n",
    "\n",
    "# init network\n",
    "sess = tf.Session()\n",
    "sess.run(tf.global_variables_initializer())\n",
    "\n",
    "# tensor board setting\n",
    "tf.summary.scalar(\"cost\", cost)\n",
    "tf.summary.scalar(\"accuracy\", accuracy)\n",
    "summary = tf.summary.merge_all()\n",
    "writer = tf.summary.FileWriter(\"./log/xor/deep1\")\n",
    "\n",
    "# write main source\n",
    "for step in range(10001):\n",
    "    cost_, s_, _ = sess.run([cost, summary, gradient], feed_dict={X: x_data, Y: y_data})\n",
    "    writer.add_summary(s_, global_step=step)\n",
    "\n",
    "    if step % 1000 == 0:\n",
    "        print(step, \"Cost : \", cost_)\n",
    "\n",
    "# write result\n",
    "print(sess.run([hypothesis, predicted, accuracy], feed_dict={X: x_data, Y: y_data}))\n",
    "\n",
    "sess.close()"
   ]
  },
  {
   "cell_type": "markdown",
   "metadata": {},
   "source": [
    "![tensorboard](./김민욱_deep1.PNG)"
   ]
  },
  {
   "cell_type": "markdown",
   "metadata": {},
   "source": [
    "## Source3 - Deep2"
   ]
  },
  {
   "cell_type": "code",
   "execution_count": 1,
   "metadata": {},
   "outputs": [
    {
     "name": "stdout",
     "output_type": "stream",
     "text": [
      "0 Cost :  1.02607\n",
      "1000 Cost :  0.616603\n",
      "2000 Cost :  0.205346\n",
      "3000 Cost :  0.0671585\n",
      "4000 Cost :  0.0354274\n",
      "5000 Cost :  0.0231266\n",
      "6000 Cost :  0.0168529\n",
      "7000 Cost :  0.0131185\n",
      "8000 Cost :  0.010667\n",
      "9000 Cost :  0.00894594\n",
      "10000 Cost :  0.00767696\n",
      "[array([[ 0.00411604],\n",
      "       [ 0.9920854 ],\n",
      "       [ 0.99198884],\n",
      "       [ 0.01053351]], dtype=float32), array([[ 0.],\n",
      "       [ 1.],\n",
      "       [ 1.],\n",
      "       [ 0.]], dtype=float32), 1.0]\n"
     ]
    }
   ],
   "source": [
    "import tensorflow as tf\n",
    "import numpy as np\n",
    "\n",
    "# input data\n",
    "x_data = np.array([[0, 0], [1, 0], [0, 1], [1, 1]], dtype = np.float32)\n",
    "y_data = np.array([[0], [1], [1], [0]], dtype=np.float32)\n",
    "\n",
    "# construct network\n",
    "X = tf.placeholder(tf.float32, [None, 2])\n",
    "Y = tf.placeholder(tf.float32, [None, 1])\n",
    "\n",
    "W1 = tf.Variable(tf.random_normal([2, 10]), dtype=tf.float32, name = 'W1')\n",
    "b1 = tf.Variable(tf.random_normal([10]), dtype=tf.float32, name = 'b1')\n",
    "\n",
    "W2 = tf.Variable(tf.random_normal([10, 1]), dtype=tf.float32, name='W2')\n",
    "b2 = tf.Variable(tf.random_normal([1]), dtype=tf.float32, name='b2')\n",
    "\n",
    "# hypothesis\n",
    "hypo1 = tf.sigmoid( tf.matmul(X, W1) + b1)\n",
    "hypothesis = tf.sigmoid( tf.matmul(hypo1, W2) + b2)\n",
    "\n",
    "# cost/loss function\n",
    "cost = - tf.reduce_mean(Y*tf.log(hypothesis)+(1-Y)*tf.log(1-hypothesis))\n",
    "\n",
    "# define gradient\n",
    "gradient = tf.train.GradientDescentOptimizer(learning_rate=0.1).minimize(cost)\n",
    "\n",
    "# Accuracy Computation\n",
    "predicted = tf.cast(hypothesis > 0.5, dtype=tf.float32)\n",
    "accuracy = tf.reduce_mean(tf.cast(tf.equal(predicted, Y), dtype=tf.float32 ))\n",
    "\n",
    "# init network\n",
    "sess = tf.Session()\n",
    "sess.run(tf.global_variables_initializer())\n",
    "\n",
    "# tensor board setting\n",
    "tf.summary.scalar(\"cost\", cost)\n",
    "tf.summary.scalar(\"accuracy\", accuracy)\n",
    "summary = tf.summary.merge_all()\n",
    "writer = tf.summary.FileWriter(\"./log/xor/deep2\")\n",
    "\n",
    "# write main source\n",
    "for step in range(10001):\n",
    "    cost_, s_, _ = sess.run([cost, summary, gradient], feed_dict={X: x_data, Y: y_data})\n",
    "    writer.add_summary(s_, global_step=step)\n",
    "    \n",
    "    if step % 1000 == 0:\n",
    "        print(step, \"Cost : \", cost_)\n",
    "        \n",
    "\n",
    "# write result\n",
    "print( sess.run([hypothesis, predicted, accuracy], feed_dict={X: x_data, Y: y_data}) )\n",
    "\n",
    "sess.close()"
   ]
  },
  {
   "cell_type": "markdown",
   "metadata": {},
   "source": [
    "![tensorboard](./김민욱_deep2.PNG)"
   ]
  },
  {
   "cell_type": "markdown",
   "metadata": {},
   "source": [
    "## Source4 - More Deep"
   ]
  },
  {
   "cell_type": "code",
   "execution_count": 1,
   "metadata": {},
   "outputs": [
    {
     "name": "stdout",
     "output_type": "stream",
     "text": [
      "0 Cost :  1.26411\n",
      "1000 Cost :  0.539507\n",
      "2000 Cost :  0.042852\n",
      "3000 Cost :  0.0151183\n",
      "4000 Cost :  0.00866513\n",
      "5000 Cost :  0.00594543\n",
      "6000 Cost :  0.0044767\n",
      "7000 Cost :  0.00356691\n",
      "8000 Cost :  0.00295193\n",
      "9000 Cost :  0.00251038\n",
      "10000 Cost :  0.00217896\n",
      "[array([[ 0.00203307],\n",
      "       [ 0.99790961],\n",
      "       [ 0.99752468],\n",
      "       [ 0.00210632]], dtype=float32), array([[ 0.],\n",
      "       [ 1.],\n",
      "       [ 1.],\n",
      "       [ 0.]], dtype=float32), 1.0]\n"
     ]
    }
   ],
   "source": [
    "import tensorflow as tf\n",
    "import numpy as np\n",
    "\n",
    "# input data\n",
    "x_data = np.array([[0, 0], [1, 0], [0, 1], [1, 1]], dtype = np.float32)\n",
    "y_data = np.array([[0], [1], [1], [0]], dtype=np.float32)\n",
    "\n",
    "# construct network\n",
    "X = tf.placeholder(tf.float32, [None, 2])\n",
    "Y = tf.placeholder(tf.float32, [None, 1])\n",
    "\n",
    "W1 = tf.Variable(tf.random_normal([2, 10]), dtype=tf.float32, name = 'W1')\n",
    "b1 = tf.Variable(tf.random_normal([10]), dtype=tf.float32, name = 'b1')\n",
    "\n",
    "W2 = tf.Variable(tf.random_normal([10, 10]), dtype=tf.float32, name='W2')\n",
    "b2 = tf.Variable(tf.random_normal([10]), dtype=tf.float32, name='b2')\n",
    "\n",
    "W3 = tf.Variable(tf.random_normal([10, 10]), dtype=tf.float32, name='W3')\n",
    "b3 = tf.Variable(tf.random_normal([10]), dtype=tf.float32, name='b3')\n",
    "\n",
    "W4 = tf.Variable(tf.random_normal([10, 1]), dtype=tf.float32, name='W4')\n",
    "b4 = tf.Variable(tf.random_normal([1]), dtype=tf.float32, name='b4')\n",
    "\n",
    "# hypothesis\n",
    "hypo1 = tf.sigmoid( tf.matmul(X, W1) + b1)\n",
    "hypo2 = tf.sigmoid( tf.matmul(hypo1, W2) + b2)\n",
    "hypo3 = tf.sigmoid( tf.matmul(hypo2, W3) + b3)\n",
    "hypothesis = tf.sigmoid( tf.matmul(hypo3, W4) + b4)\n",
    "\n",
    "# cost/loss function\n",
    "cost = - tf.reduce_mean(Y*tf.log(hypothesis)+(1-Y)*tf.log(1-hypothesis))\n",
    "\n",
    "# define gradient\n",
    "gradient = tf.train.GradientDescentOptimizer(learning_rate=0.1).minimize(cost)\n",
    "\n",
    "# Accuracy Computation\n",
    "predicted = tf.cast(hypothesis > 0.5, dtype=tf.float32)\n",
    "accuracy = tf.reduce_mean(tf.cast(tf.equal(predicted, Y), dtype=tf.float32 ))\n",
    "\n",
    "# init network\n",
    "sess = tf.Session()\n",
    "sess.run(tf.global_variables_initializer())\n",
    "\n",
    "# tensor board setting\n",
    "tf.summary.scalar(\"cost\", cost)\n",
    "tf.summary.scalar(\"accuracy\", accuracy)\n",
    "summary = tf.summary.merge_all()\n",
    "writer = tf.summary.FileWriter(\"./log/xor/more_deep\")\n",
    "\n",
    "# write main source\n",
    "for step in range(10001):\n",
    "    cost_, s_, _ = sess.run([cost, summary, gradient], feed_dict={X: x_data, Y: y_data})\n",
    "    writer.add_summary(s_, global_step=step)\n",
    "    \n",
    "    if step % 1000 == 0:\n",
    "        print(step, \"Cost : \", cost_)\n",
    "        \n",
    "\n",
    "# write result\n",
    "print( sess.run([hypothesis, predicted, accuracy], feed_dict={X: x_data, Y: y_data}) )\n",
    "\n",
    "sess.close()"
   ]
  },
  {
   "cell_type": "markdown",
   "metadata": {},
   "source": [
    "![tensorboard](./김민욱_more_deep.PNG)"
   ]
  },
  {
   "cell_type": "markdown",
   "metadata": {},
   "source": [
    "## Total TensorBoard"
   ]
  },
  {
   "cell_type": "markdown",
   "metadata": {},
   "source": [
    "![tensorboard](./김민욱_total_deep.PNG)"
   ]
  }
 ],
 "metadata": {
  "kernelspec": {
   "display_name": "tc",
   "language": "python",
   "name": "tc"
  },
  "language_info": {
   "codemirror_mode": {
    "name": "ipython",
    "version": 3
   },
   "file_extension": ".py",
   "mimetype": "text/x-python",
   "name": "python",
   "nbconvert_exporter": "python",
   "pygments_lexer": "ipython3",
   "version": "3.6.1"
  }
 },
 "nbformat": 4,
 "nbformat_minor": 2
}
