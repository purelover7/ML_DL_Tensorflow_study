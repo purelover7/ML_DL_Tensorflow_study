{
 "cells": [
  {
   "cell_type": "markdown",
   "metadata": {},
   "source": [
    "## MNIST Neural network"
   ]
  },
  {
   "cell_type": "code",
   "execution_count": 1,
   "metadata": {
    "collapsed": false
   },
   "outputs": [
    {
     "name": "stdout",
     "output_type": "stream",
     "text": [
      "Extracting MNIST_data/train-images-idx3-ubyte.gz\n",
      "Extracting MNIST_data/train-labels-idx1-ubyte.gz\n",
      "Extracting MNIST_data/t10k-images-idx3-ubyte.gz\n",
      "Extracting MNIST_data/t10k-labels-idx1-ubyte.gz\n",
      "Epoch: 0001 cost = 1.372505674\n",
      "Epoch: 0002 cost = 0.698192219\n",
      "Epoch: 0003 cost = 0.544527173\n",
      "Epoch: 0004 cost = 0.474619831\n",
      "Epoch: 0005 cost = 0.429062797\n",
      "Epoch: 0006 cost = 0.394373102\n",
      "Epoch: 0007 cost = 0.367795866\n",
      "Epoch: 0008 cost = 0.348932316\n",
      "Epoch: 0009 cost = 0.334073092\n",
      "Epoch: 0010 cost = 0.321291554\n",
      "Epoch: 0011 cost = 0.311816438\n",
      "Epoch: 0012 cost = 0.302405309\n",
      "Epoch: 0013 cost = 0.296337974\n",
      "Epoch: 0014 cost = 0.288922929\n",
      "Epoch: 0015 cost = 0.282648797\n",
      "Epoch: 0016 cost = 0.277225054\n",
      "Epoch: 0017 cost = 0.272222245\n",
      "Epoch: 0018 cost = 0.267155256\n",
      "Epoch: 0019 cost = 0.263414289\n",
      "Epoch: 0020 cost = 0.260405108\n",
      "Accuracy:  0.9187\n"
     ]
    }
   ],
   "source": [
    "import tensorflow as tf\n",
    "from tensorflow.examples.tutorials.mnist import input_data\n",
    "\n",
    "mnist = input_data.read_data_sets(\"MNIST_data/\", one_hot=True)\n",
    "nb_classes = 10\n",
    "\n",
    "X = tf.placeholder(tf.float32, shape=(None, 784))\n",
    "Y = tf.placeholder(tf.float32, shape=(None, nb_classes))\n",
    "\n",
    "with tf.name_scope(\"layer1\") as scope:\n",
    "    W1 = tf.Variable(tf.random_normal([784, 10]), name=\"weight1\")\n",
    "    b1 = tf.Variable(tf.random_normal([10]), name=\"biase1\")\n",
    "    Layer1 = tf.sigmoid(tf.matmul(X, W1) + b1)\n",
    "    \n",
    "    w1_hist = tf.summary.histogram(\"weights1\", W1)\n",
    "    b1_hist = tf.summary.histogram(\"biases1\", b1)\n",
    "    layer1_hist = tf.summary.histogram(\"layer1\", Layer1)\n",
    "\n",
    "with tf.name_scope(\"layer2\") as scope:\n",
    "    W2 = tf.Variable(tf.random_normal([10, 10]), name=\"weight2\")\n",
    "    b2 = tf.Variable(tf.random_normal([10]), name=\"biase2\")\n",
    "    Layer2 = tf.sigmoid(tf.matmul(Layer1, W2) + b2)\n",
    "    \n",
    "    w2_hist = tf.summary.histogram(\"weights2\", W2)\n",
    "    b2_hist = tf.summary.histogram(\"biases2\", b2)\n",
    "    layer2_hist = tf.summary.histogram(\"layer2\", Layer2)\n",
    "    \n",
    "with tf.name_scope(\"layer3\") as scope:\n",
    "    W3 = tf.Variable(tf.random_normal([10, 10]), name=\"weight3\")\n",
    "    b3 = tf.Variable(tf.random_normal([10]), name=\"biase3\")\n",
    "    Layer3 = tf.sigmoid(tf.matmul(Layer2, W3) + b3)\n",
    "    \n",
    "    w3_hist = tf.summary.histogram(\"weights3\", W3)\n",
    "    b3_hist = tf.summary.histogram(\"biases3\", b3)\n",
    "    layer3_hist = tf.summary.histogram(\"layer3\", Layer3)\n",
    "    \n",
    "with tf.name_scope(\"layer4\") as scope:\n",
    "    W4 = tf.Variable(tf.random_normal([10, nb_classes]), name=\"weight4\")\n",
    "    b4 = tf.Variable(tf.random_normal([nb_classes]), name=\"biase4\")\n",
    "    hypothesis = tf.nn.softmax(tf.matmul(Layer3, W4) + b4)\n",
    "    \n",
    "    w4_hist = tf.summary.histogram(\"weights4\", W4)\n",
    "    b4_hist = tf.summary.histogram(\"biases4\", b4)\n",
    "    layer4_hist = tf.summary.histogram(\"layer4\", hypothesis)\n",
    "\n",
    "cost = tf.reduce_mean(-tf.reduce_sum(Y * tf.log(hypothesis), axis=1))\n",
    "optimizer = tf.train.GradientDescentOptimizer(learning_rate=0.9).minimize(cost)\n",
    "\n",
    "is_correct = tf.equal(tf.argmax(hypothesis, 1), tf.argmax(Y, 1))\n",
    "accuracy = tf.reduce_mean(tf.cast(is_correct, tf.float32))\n",
    "\n",
    "tf.summary.scalar(\"cost\", cost)\n",
    "tf.summary.scalar(\"accuracy\", accuracy)\n",
    "\n",
    "summary = tf.summary.merge_all()\n",
    "\n",
    "trainning_epochs = 20\n",
    "batch_size = 100\n",
    "\n",
    "global_step = 0\n",
    "with tf.Session() as sess:\n",
    "    sess.run(tf.global_variables_initializer())\n",
    "    writer = tf.summary.FileWriter(\"./log/mnist_logs\")\n",
    "    writer.add_graph(sess.graph)\n",
    "    for epoch in range(trainning_epochs):\n",
    "        avg_cost = 0\n",
    "        total_batch = int(mnist.train.num_examples / batch_size)\n",
    "        for i in range(total_batch):\n",
    "            batch_xs, batch_ys = mnist.train.next_batch(batch_size)\n",
    "            s, c, _ = sess.run([summary, cost, optimizer], feed_dict={X: batch_xs, Y: batch_ys})\n",
    "            avg_cost += c / total_batch\n",
    "            writer.add_summary(s, global_step=global_step)\n",
    "            global_step += 1\n",
    "        print('Epoch:', '%04d' % (epoch + 1), 'cost =', '{:.9f}'.format(avg_cost))\n",
    "    print(\"Accuracy: \", accuracy.eval(session=sess, feed_dict={X: mnist.test.images, Y: mnist.test.labels}))"
   ]
  },
  {
   "cell_type": "markdown",
   "metadata": {
    "collapsed": true
   },
   "source": [
    "![tensorbard](./김성헌_tensorboard_01.png)"
   ]
  },
  {
   "cell_type": "code",
   "execution_count": null,
   "metadata": {
    "collapsed": true
   },
   "outputs": [],
   "source": []
  }
 ],
 "metadata": {
  "anaconda-cloud": {},
  "kernelspec": {
   "display_name": "Python [default]",
   "language": "python",
   "name": "python3"
  },
  "language_info": {
   "codemirror_mode": {
    "name": "ipython",
    "version": 3
   },
   "file_extension": ".py",
   "mimetype": "text/x-python",
   "name": "python",
   "nbconvert_exporter": "python",
   "pygments_lexer": "ipython3",
   "version": "3.5.2"
  }
 },
 "nbformat": 4,
 "nbformat_minor": 2
}
