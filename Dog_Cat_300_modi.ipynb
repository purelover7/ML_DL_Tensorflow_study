{
  "nbformat": 4,
  "nbformat_minor": 0,
  "metadata": {
    "colab": {
      "name": "Dog-Cat 300_modi.ipynb",
      "version": "0.3.2",
      "provenance": []
    },
    "kernelspec": {
      "name": "python3",
      "display_name": "Python 3"
    },
    "accelerator": "GPU"
  },
  "cells": [
    {
      "cell_type": "markdown",
      "metadata": {
        "id": "view-in-github",
        "colab_type": "text"
      },
      "source": [
        "[View in Colaboratory](https://colab.research.google.com/github/purelover7/ML_DL_Tensorflow_study/blob/master/Dog_Cat_300_modi.ipynb)"
      ]
    },
    {
      "metadata": {
        "id": "4Fmw8oPpvfXu",
        "colab_type": "text"
      },
      "cell_type": "markdown",
      "source": [
        "# Dogs vs. Cats Problem"
      ]
    },
    {
      "metadata": {
        "id": "iSZJxFLmvqHd",
        "colab_type": "text"
      },
      "cell_type": "markdown",
      "source": [
        "우선 Train 200(cat: 100, dog: 100), Validate 100(cat: 50, dog: 50)으로 학습시켜본다."
      ]
    },
    {
      "metadata": {
        "id": "AtKvPKztwBdV",
        "colab_type": "text"
      },
      "cell_type": "markdown",
      "source": [
        "## Colab Data Load"
      ]
    },
    {
      "metadata": {
        "id": "FTObHGmvv8YU",
        "colab_type": "code",
        "colab": {}
      },
      "cell_type": "code",
      "source": [
        "!pip install -U -q PyDrive\n",
        "\n",
        "from pydrive.auth import GoogleAuth\n",
        "from pydrive.drive import GoogleDrive\n",
        "from google.colab import auth\n",
        "from oauth2client.client import GoogleCredentials\n",
        "from google.colab import files"
      ],
      "execution_count": 0,
      "outputs": []
    },
    {
      "metadata": {
        "id": "zPqRgyGiwJj1",
        "colab_type": "code",
        "colab": {}
      },
      "cell_type": "code",
      "source": [
        "# 1. Authenticate and create the PyDrive client.\n",
        "auth.authenticate_user()\n",
        "gauth = GoogleAuth()\n",
        "gauth.credentials = GoogleCredentials.get_application_default()\n",
        "drive = GoogleDrive(gauth)"
      ],
      "execution_count": 0,
      "outputs": []
    },
    {
      "metadata": {
        "id": "cIuXWTMUwMY8",
        "colab_type": "code",
        "colab": {}
      },
      "cell_type": "code",
      "source": [
        "#2. Get the file\n",
        "downloaded = drive.CreateFile({'id':'1z462F1zywINc47_hb_tX4SuvE6s4zriX'}) # replace the id with id of file you want to access\n",
        "downloaded.GetContentFile('data300.zip')"
      ],
      "execution_count": 0,
      "outputs": []
    },
    {
      "metadata": {
        "id": "A3CJhHz3weXc",
        "colab_type": "text"
      },
      "cell_type": "markdown",
      "source": [
        "## Zip File Extraction"
      ]
    },
    {
      "metadata": {
        "id": "3m2y6g3UwgTl",
        "colab_type": "code",
        "colab": {}
      },
      "cell_type": "code",
      "source": [
        "import zipfile\n",
        "import os, os.path"
      ],
      "execution_count": 0,
      "outputs": []
    },
    {
      "metadata": {
        "id": "KxPJ0YItwjA8",
        "colab_type": "code",
        "colab": {}
      },
      "cell_type": "code",
      "source": [
        "DataPath = './data'"
      ],
      "execution_count": 0,
      "outputs": []
    },
    {
      "metadata": {
        "id": "X68Eo88ywlgs",
        "colab_type": "code",
        "colab": {}
      },
      "cell_type": "code",
      "source": [
        "objZip = zipfile.ZipFile('./data300.zip')\n",
        "objZip.extractall(DataPath)"
      ],
      "execution_count": 0,
      "outputs": []
    },
    {
      "metadata": {
        "id": "B4ihyIbOwnuV",
        "colab_type": "code",
        "colab": {}
      },
      "cell_type": "code",
      "source": [
        "from IPython.display import Image"
      ],
      "execution_count": 0,
      "outputs": []
    },
    {
      "metadata": {
        "id": "h6jqz_SMxSN0",
        "colab_type": "code",
        "colab": {
          "base_uri": "https://localhost:8080/",
          "height": 297
        },
        "outputId": "769c8501-ad95-4695-86a8-903a6574f0c0"
      },
      "cell_type": "code",
      "source": [
        "Image('./data/Train/cat/cat.1.jpg')"
      ],
      "execution_count": 8,
      "outputs": [
        {
          "output_type": "execute_result",
          "data": {
            "image/jpeg": "[encoded data removed]",
            "text/plain": [
              "<IPython.core.display.Image object>"
            ]
          },
          "metadata": {
            "tags": []
          },
          "execution_count": 8
        }
      ]
    },
    {
      "metadata": {
        "id": "_U34MbomxWFc",
        "colab_type": "code",
        "colab": {
          "base_uri": "https://localhost:8080/",
          "height": 392
        },
        "outputId": "b065e369-2238-4f5e-9e0f-b69da475d577"
      },
      "cell_type": "code",
      "source": [
        "Image('./data/Train/dog/dog.0.jpg')"
      ],
      "execution_count": 9,
      "outputs": [
        {
          "output_type": "execute_result",
          "data": {
            "image/jpeg": "[encoded data removed]",
            "text/plain": [
              "<IPython.core.display.Image object>"
            ]
          },
          "metadata": {
            "tags": []
          },
          "execution_count": 9
        }
      ]
    },
    {
      "metadata": {
        "id": "Xzx9orJLyb5e",
        "colab_type": "code",
        "colab": {
          "base_uri": "https://localhost:8080/",
          "height": 89
        },
        "outputId": "2fd1a0c6-f7e5-455c-877d-d3c7c6e40259"
      },
      "cell_type": "code",
      "source": [
        "print(\"[TestData] Train cat : [%d]\" % len(os.listdir('./data/Train/cat/') ) )\n",
        "print(\"[TestData] Train dog : [%d]\" % len(os.listdir('./data/Train/dog/') ) )\n",
        "\n",
        "print(\"[ValidData] Valid cat : [%d]\" % len(os.listdir('./data/Valid/cat/') ) )\n",
        "print(\"[ValidData] Valid dog : [%d]\" % len(os.listdir('./data/Valid/dog/') ) )"
      ],
      "execution_count": 10,
      "outputs": [
        {
          "output_type": "stream",
          "text": [
            "[TestData] Train cat : [100]\n",
            "[TestData] Train dog : [100]\n",
            "[ValidData] Valid cat : [50]\n",
            "[ValidData] Valid dog : [50]\n"
          ],
          "name": "stdout"
        }
      ]
    },
    {
      "metadata": {
        "id": "OO9kJrm1x6f7",
        "colab_type": "text"
      },
      "cell_type": "markdown",
      "source": [
        "Input Data Load SuccessFully!"
      ]
    },
    {
      "metadata": {
        "id": "JDII9ndux-VS",
        "colab_type": "text"
      },
      "cell_type": "markdown",
      "source": [
        "## Model Construction"
      ]
    },
    {
      "metadata": {
        "id": "23U3BSidx6Ar",
        "colab_type": "code",
        "colab": {
          "base_uri": "https://localhost:8080/",
          "height": 413
        },
        "outputId": "26058d6f-b9eb-4270-ce34-1dd0b63408d2"
      },
      "cell_type": "code",
      "source": [
        "!pip3 install http://download.pytorch.org/whl/cu80/torch-0.3.0.post4-cp36-cp36m-linux_x86_64.whl\n",
        "!pip3 install torchvision"
      ],
      "execution_count": 11,
      "outputs": [
        {
          "output_type": "stream",
          "text": [
            "Collecting torch==0.3.0.post4 from http://download.pytorch.org/whl/cu80/torch-0.3.0.post4-cp36-cp36m-linux_x86_64.whl\n",
            "\u001b[?25l  Downloading http://download.pytorch.org/whl/cu80/torch-0.3.0.post4-cp36-cp36m-linux_x86_64.whl (592.3MB)\n",
            "\u001b[K    68% |█████████████████████▊          | 402.9MB 58.7MB/s eta 0:00:04"
          ],
          "name": "stdout"
        },
        {
          "output_type": "stream",
          "text": [
            "\u001b[K    100% |████████████████████████████████| 592.3MB 44.0MB/s \n",
            "\u001b[?25hRequirement already satisfied: pyyaml in /usr/local/lib/python3.6/dist-packages (from torch==0.3.0.post4) (3.12)\n",
            "Requirement already satisfied: numpy in /usr/local/lib/python3.6/dist-packages (from torch==0.3.0.post4) (1.14.3)\n",
            "Installing collected packages: torch\n",
            "Successfully installed torch-0.3.0.post4\n",
            "Collecting torchvision\n",
            "\u001b[?25l  Downloading https://files.pythonhosted.org/packages/ca/0d/f00b2885711e08bd71242ebe7b96561e6f6d01fdb4b9dcf4d37e2e13c5e1/torchvision-0.2.1-py2.py3-none-any.whl (54kB)\n",
            "\u001b[K    100% |████████████████████████████████| 61kB 2.3MB/s \n",
            "\u001b[?25hRequirement already satisfied: numpy in /usr/local/lib/python3.6/dist-packages (from torchvision) (1.14.3)\n",
            "Requirement already satisfied: torch in /usr/local/lib/python3.6/dist-packages (from torchvision) (0.3.0.post4)\n",
            "Requirement already satisfied: six in /usr/local/lib/python3.6/dist-packages (from torchvision) (1.11.0)\n",
            "Collecting pillow>=4.1.1 (from torchvision)\n",
            "\u001b[?25l  Downloading https://files.pythonhosted.org/packages/5f/4b/8b54ab9d37b93998c81b364557dff9f61972c0f650efa0ceaf470b392740/Pillow-5.1.0-cp36-cp36m-manylinux1_x86_64.whl (2.0MB)\n",
            "\u001b[K    100% |████████████████████████████████| 2.0MB 9.4MB/s \n",
            "\u001b[?25hRequirement already satisfied: pyyaml in /usr/local/lib/python3.6/dist-packages (from torch->torchvision) (3.12)\n",
            "Installing collected packages: pillow, torchvision\n",
            "  Found existing installation: Pillow 4.0.0\n",
            "    Uninstalling Pillow-4.0.0:\n",
            "      Successfully uninstalled Pillow-4.0.0\n",
            "Successfully installed pillow-5.1.0 torchvision-0.2.1\n"
          ],
          "name": "stdout"
        }
      ]
    },
    {
      "metadata": {
        "id": "xgeJicaryD7M",
        "colab_type": "code",
        "colab": {}
      },
      "cell_type": "code",
      "source": [
        "import torch\n",
        "import torchvision\n",
        "import torchvision.models as models"
      ],
      "execution_count": 0,
      "outputs": []
    },
    {
      "metadata": {
        "id": "dsIhP3tuzVrF",
        "colab_type": "code",
        "colab": {
          "base_uri": "https://localhost:8080/",
          "height": 1205
        },
        "outputId": "86c449e9-e457-47b5-b6c3-6836bf4e8363"
      },
      "cell_type": "code",
      "source": [
        "net = models.vgg.vgg19_bn()\n",
        "net.children"
      ],
      "execution_count": 2,
      "outputs": [
        {
          "output_type": "execute_result",
          "data": {
            "text/plain": [
              "<bound method Module.children of VGG(\n",
              "  (features): Sequential(\n",
              "    (0): Conv2d (3, 64, kernel_size=(3, 3), stride=(1, 1), padding=(1, 1))\n",
              "    (1): BatchNorm2d(64, eps=1e-05, momentum=0.1, affine=True)\n",
              "    (2): ReLU(inplace)\n",
              "    (3): Conv2d (64, 64, kernel_size=(3, 3), stride=(1, 1), padding=(1, 1))\n",
              "    (4): BatchNorm2d(64, eps=1e-05, momentum=0.1, affine=True)\n",
              "    (5): ReLU(inplace)\n",
              "    (6): MaxPool2d(kernel_size=(2, 2), stride=(2, 2), dilation=(1, 1))\n",
              "    (7): Conv2d (64, 128, kernel_size=(3, 3), stride=(1, 1), padding=(1, 1))\n",
              "    (8): BatchNorm2d(128, eps=1e-05, momentum=0.1, affine=True)\n",
              "    (9): ReLU(inplace)\n",
              "    (10): Conv2d (128, 128, kernel_size=(3, 3), stride=(1, 1), padding=(1, 1))\n",
              "    (11): BatchNorm2d(128, eps=1e-05, momentum=0.1, affine=True)\n",
              "    (12): ReLU(inplace)\n",
              "    (13): MaxPool2d(kernel_size=(2, 2), stride=(2, 2), dilation=(1, 1))\n",
              "    (14): Conv2d (128, 256, kernel_size=(3, 3), stride=(1, 1), padding=(1, 1))\n",
              "    (15): BatchNorm2d(256, eps=1e-05, momentum=0.1, affine=True)\n",
              "    (16): ReLU(inplace)\n",
              "    (17): Conv2d (256, 256, kernel_size=(3, 3), stride=(1, 1), padding=(1, 1))\n",
              "    (18): BatchNorm2d(256, eps=1e-05, momentum=0.1, affine=True)\n",
              "    (19): ReLU(inplace)\n",
              "    (20): Conv2d (256, 256, kernel_size=(3, 3), stride=(1, 1), padding=(1, 1))\n",
              "    (21): BatchNorm2d(256, eps=1e-05, momentum=0.1, affine=True)\n",
              "    (22): ReLU(inplace)\n",
              "    (23): Conv2d (256, 256, kernel_size=(3, 3), stride=(1, 1), padding=(1, 1))\n",
              "    (24): BatchNorm2d(256, eps=1e-05, momentum=0.1, affine=True)\n",
              "    (25): ReLU(inplace)\n",
              "    (26): MaxPool2d(kernel_size=(2, 2), stride=(2, 2), dilation=(1, 1))\n",
              "    (27): Conv2d (256, 512, kernel_size=(3, 3), stride=(1, 1), padding=(1, 1))\n",
              "    (28): BatchNorm2d(512, eps=1e-05, momentum=0.1, affine=True)\n",
              "    (29): ReLU(inplace)\n",
              "    (30): Conv2d (512, 512, kernel_size=(3, 3), stride=(1, 1), padding=(1, 1))\n",
              "    (31): BatchNorm2d(512, eps=1e-05, momentum=0.1, affine=True)\n",
              "    (32): ReLU(inplace)\n",
              "    (33): Conv2d (512, 512, kernel_size=(3, 3), stride=(1, 1), padding=(1, 1))\n",
              "    (34): BatchNorm2d(512, eps=1e-05, momentum=0.1, affine=True)\n",
              "    (35): ReLU(inplace)\n",
              "    (36): Conv2d (512, 512, kernel_size=(3, 3), stride=(1, 1), padding=(1, 1))\n",
              "    (37): BatchNorm2d(512, eps=1e-05, momentum=0.1, affine=True)\n",
              "    (38): ReLU(inplace)\n",
              "    (39): MaxPool2d(kernel_size=(2, 2), stride=(2, 2), dilation=(1, 1))\n",
              "    (40): Conv2d (512, 512, kernel_size=(3, 3), stride=(1, 1), padding=(1, 1))\n",
              "    (41): BatchNorm2d(512, eps=1e-05, momentum=0.1, affine=True)\n",
              "    (42): ReLU(inplace)\n",
              "    (43): Conv2d (512, 512, kernel_size=(3, 3), stride=(1, 1), padding=(1, 1))\n",
              "    (44): BatchNorm2d(512, eps=1e-05, momentum=0.1, affine=True)\n",
              "    (45): ReLU(inplace)\n",
              "    (46): Conv2d (512, 512, kernel_size=(3, 3), stride=(1, 1), padding=(1, 1))\n",
              "    (47): BatchNorm2d(512, eps=1e-05, momentum=0.1, affine=True)\n",
              "    (48): ReLU(inplace)\n",
              "    (49): Conv2d (512, 512, kernel_size=(3, 3), stride=(1, 1), padding=(1, 1))\n",
              "    (50): BatchNorm2d(512, eps=1e-05, momentum=0.1, affine=True)\n",
              "    (51): ReLU(inplace)\n",
              "    (52): MaxPool2d(kernel_size=(2, 2), stride=(2, 2), dilation=(1, 1))\n",
              "  )\n",
              "  (classifier): Sequential(\n",
              "    (0): Linear(in_features=25088, out_features=4096)\n",
              "    (1): ReLU(inplace)\n",
              "    (2): Dropout(p=0.5)\n",
              "    (3): Linear(in_features=4096, out_features=4096)\n",
              "    (4): ReLU(inplace)\n",
              "    (5): Dropout(p=0.5)\n",
              "    (6): Linear(in_features=4096, out_features=1000)\n",
              "  )\n",
              ")>"
            ]
          },
          "metadata": {
            "tags": []
          },
          "execution_count": 2
        }
      ]
    },
    {
      "metadata": {
        "id": "sd7VZjoNzLoV",
        "colab_type": "code",
        "colab": {}
      },
      "cell_type": "code",
      "source": [
        "import torch.nn as nn"
      ],
      "execution_count": 0,
      "outputs": []
    },
    {
      "metadata": {
        "id": "wtYOgIwCz2bF",
        "colab_type": "code",
        "colab": {}
      },
      "cell_type": "code",
      "source": [
        "net.classifier = torch.nn.Sequential(\n",
        "            nn.Linear(512 * 7 * 7, 4096),\n",
        "            nn.ReLU(True),\n",
        "            nn.Dropout(p=0.5),\n",
        "            nn.Linear(4096, 4096),\n",
        "            nn.ReLU(True),\n",
        "            nn.Dropout(p=0.5),\n",
        "            nn.Linear(4096, 2),\n",
        "        )"
      ],
      "execution_count": 0,
      "outputs": []
    },
    {
      "metadata": {
        "id": "BE7vrLcc0CQ9",
        "colab_type": "code",
        "colab": {
          "base_uri": "https://localhost:8080/",
          "height": 1205
        },
        "outputId": "2c58e4fc-3e5b-4314-a184-b4fa1b3b639f"
      },
      "cell_type": "code",
      "source": [
        "net.children"
      ],
      "execution_count": 5,
      "outputs": [
        {
          "output_type": "execute_result",
          "data": {
            "text/plain": [
              "<bound method Module.children of VGG(\n",
              "  (features): Sequential(\n",
              "    (0): Conv2d (3, 64, kernel_size=(3, 3), stride=(1, 1), padding=(1, 1))\n",
              "    (1): BatchNorm2d(64, eps=1e-05, momentum=0.1, affine=True)\n",
              "    (2): ReLU(inplace)\n",
              "    (3): Conv2d (64, 64, kernel_size=(3, 3), stride=(1, 1), padding=(1, 1))\n",
              "    (4): BatchNorm2d(64, eps=1e-05, momentum=0.1, affine=True)\n",
              "    (5): ReLU(inplace)\n",
              "    (6): MaxPool2d(kernel_size=(2, 2), stride=(2, 2), dilation=(1, 1))\n",
              "    (7): Conv2d (64, 128, kernel_size=(3, 3), stride=(1, 1), padding=(1, 1))\n",
              "    (8): BatchNorm2d(128, eps=1e-05, momentum=0.1, affine=True)\n",
              "    (9): ReLU(inplace)\n",
              "    (10): Conv2d (128, 128, kernel_size=(3, 3), stride=(1, 1), padding=(1, 1))\n",
              "    (11): BatchNorm2d(128, eps=1e-05, momentum=0.1, affine=True)\n",
              "    (12): ReLU(inplace)\n",
              "    (13): MaxPool2d(kernel_size=(2, 2), stride=(2, 2), dilation=(1, 1))\n",
              "    (14): Conv2d (128, 256, kernel_size=(3, 3), stride=(1, 1), padding=(1, 1))\n",
              "    (15): BatchNorm2d(256, eps=1e-05, momentum=0.1, affine=True)\n",
              "    (16): ReLU(inplace)\n",
              "    (17): Conv2d (256, 256, kernel_size=(3, 3), stride=(1, 1), padding=(1, 1))\n",
              "    (18): BatchNorm2d(256, eps=1e-05, momentum=0.1, affine=True)\n",
              "    (19): ReLU(inplace)\n",
              "    (20): Conv2d (256, 256, kernel_size=(3, 3), stride=(1, 1), padding=(1, 1))\n",
              "    (21): BatchNorm2d(256, eps=1e-05, momentum=0.1, affine=True)\n",
              "    (22): ReLU(inplace)\n",
              "    (23): Conv2d (256, 256, kernel_size=(3, 3), stride=(1, 1), padding=(1, 1))\n",
              "    (24): BatchNorm2d(256, eps=1e-05, momentum=0.1, affine=True)\n",
              "    (25): ReLU(inplace)\n",
              "    (26): MaxPool2d(kernel_size=(2, 2), stride=(2, 2), dilation=(1, 1))\n",
              "    (27): Conv2d (256, 512, kernel_size=(3, 3), stride=(1, 1), padding=(1, 1))\n",
              "    (28): BatchNorm2d(512, eps=1e-05, momentum=0.1, affine=True)\n",
              "    (29): ReLU(inplace)\n",
              "    (30): Conv2d (512, 512, kernel_size=(3, 3), stride=(1, 1), padding=(1, 1))\n",
              "    (31): BatchNorm2d(512, eps=1e-05, momentum=0.1, affine=True)\n",
              "    (32): ReLU(inplace)\n",
              "    (33): Conv2d (512, 512, kernel_size=(3, 3), stride=(1, 1), padding=(1, 1))\n",
              "    (34): BatchNorm2d(512, eps=1e-05, momentum=0.1, affine=True)\n",
              "    (35): ReLU(inplace)\n",
              "    (36): Conv2d (512, 512, kernel_size=(3, 3), stride=(1, 1), padding=(1, 1))\n",
              "    (37): BatchNorm2d(512, eps=1e-05, momentum=0.1, affine=True)\n",
              "    (38): ReLU(inplace)\n",
              "    (39): MaxPool2d(kernel_size=(2, 2), stride=(2, 2), dilation=(1, 1))\n",
              "    (40): Conv2d (512, 512, kernel_size=(3, 3), stride=(1, 1), padding=(1, 1))\n",
              "    (41): BatchNorm2d(512, eps=1e-05, momentum=0.1, affine=True)\n",
              "    (42): ReLU(inplace)\n",
              "    (43): Conv2d (512, 512, kernel_size=(3, 3), stride=(1, 1), padding=(1, 1))\n",
              "    (44): BatchNorm2d(512, eps=1e-05, momentum=0.1, affine=True)\n",
              "    (45): ReLU(inplace)\n",
              "    (46): Conv2d (512, 512, kernel_size=(3, 3), stride=(1, 1), padding=(1, 1))\n",
              "    (47): BatchNorm2d(512, eps=1e-05, momentum=0.1, affine=True)\n",
              "    (48): ReLU(inplace)\n",
              "    (49): Conv2d (512, 512, kernel_size=(3, 3), stride=(1, 1), padding=(1, 1))\n",
              "    (50): BatchNorm2d(512, eps=1e-05, momentum=0.1, affine=True)\n",
              "    (51): ReLU(inplace)\n",
              "    (52): MaxPool2d(kernel_size=(2, 2), stride=(2, 2), dilation=(1, 1))\n",
              "  )\n",
              "  (classifier): Sequential(\n",
              "    (0): Linear(in_features=25088, out_features=4096)\n",
              "    (1): ReLU(inplace)\n",
              "    (2): Dropout(p=0.5)\n",
              "    (3): Linear(in_features=4096, out_features=4096)\n",
              "    (4): ReLU(inplace)\n",
              "    (5): Dropout(p=0.5)\n",
              "    (6): Linear(in_features=4096, out_features=2)\n",
              "  )\n",
              ")>"
            ]
          },
          "metadata": {
            "tags": []
          },
          "execution_count": 5
        }
      ]
    },
    {
      "metadata": {
        "id": "0T9IGvOr0ECM",
        "colab_type": "code",
        "colab": {}
      },
      "cell_type": "code",
      "source": [
        "from torch.autograd import Variable "
      ],
      "execution_count": 0,
      "outputs": []
    },
    {
      "metadata": {
        "id": "XmK_n-Me0HHE",
        "colab_type": "code",
        "colab": {
          "base_uri": "https://localhost:8080/",
          "height": 107
        },
        "outputId": "6a8075b8-3b2f-4cc2-b367-d9871a73abfc"
      },
      "cell_type": "code",
      "source": [
        "net = net.cuda()\n",
        "x = Variable.cuda(torch.randn(2,3,224,224))\n",
        "y = net(x)\n",
        "print(y)"
      ],
      "execution_count": 7,
      "outputs": [
        {
          "output_type": "stream",
          "text": [
            "Variable containing:\n",
            " 0.2408  0.0894\n",
            " 0.2080  0.1836\n",
            "[torch.cuda.FloatTensor of size 2x2 (GPU 0)]\n",
            "\n"
          ],
          "name": "stdout"
        }
      ]
    },
    {
      "metadata": {
        "id": "AiRQ6Of30a9G",
        "colab_type": "text"
      },
      "cell_type": "markdown",
      "source": [
        "## Apply Data to Model"
      ]
    },
    {
      "metadata": {
        "id": "f7pQB-vP0e4e",
        "colab_type": "code",
        "colab": {}
      },
      "cell_type": "code",
      "source": [
        "import torch\n",
        "import torchvision\n",
        "import torchvision.transforms as transforms"
      ],
      "execution_count": 0,
      "outputs": []
    },
    {
      "metadata": {
        "id": "ffNSF43l0iWs",
        "colab_type": "code",
        "colab": {}
      },
      "cell_type": "code",
      "source": [
        "transform_train = transforms.Compose([\n",
        "    transforms.Resize((224,224)),\n",
        "    # transforms.RandomCrop(32, padding=4),\n",
        "    #transforms.RandomHorizontalFlip(),\n",
        "    transforms.ToTensor(),\n",
        "    # transforms.Normalize((0.4914, 0.4822, 0.4465), (0.2023, 0.1994, 0.2010)),\n",
        "])"
      ],
      "execution_count": 0,
      "outputs": []
    },
    {
      "metadata": {
        "id": "_AE5yaZ-0lM0",
        "colab_type": "code",
        "colab": {}
      },
      "cell_type": "code",
      "source": [
        "trainset = torchvision.datasets.ImageFolder(root='./data/Train', transform=transform_train)"
      ],
      "execution_count": 0,
      "outputs": []
    },
    {
      "metadata": {
        "id": "ELeE_5Hk0oEU",
        "colab_type": "code",
        "colab": {
          "base_uri": "https://localhost:8080/",
          "height": 35
        },
        "outputId": "e6009dbd-8b43-4689-8a4d-74e2dcc4025a"
      },
      "cell_type": "code",
      "source": [
        "trainset.classes"
      ],
      "execution_count": 11,
      "outputs": [
        {
          "output_type": "execute_result",
          "data": {
            "text/plain": [
              "['cat', 'dog']"
            ]
          },
          "metadata": {
            "tags": []
          },
          "execution_count": 11
        }
      ]
    },
    {
      "metadata": {
        "id": "VSo3An0i0s9N",
        "colab_type": "code",
        "colab": {
          "base_uri": "https://localhost:8080/",
          "height": 35
        },
        "outputId": "b2037b24-4ca9-415d-a61e-d9004aaf75ba"
      },
      "cell_type": "code",
      "source": [
        "trainset.class_to_idx"
      ],
      "execution_count": 12,
      "outputs": [
        {
          "output_type": "execute_result",
          "data": {
            "text/plain": [
              "{'cat': 0, 'dog': 1}"
            ]
          },
          "metadata": {
            "tags": []
          },
          "execution_count": 12
        }
      ]
    },
    {
      "metadata": {
        "id": "saywR8mh0up8",
        "colab_type": "code",
        "colab": {
          "base_uri": "https://localhost:8080/",
          "height": 3617
        },
        "outputId": "390113d5-60ff-43fb-9c6b-9617da9e3463"
      },
      "cell_type": "code",
      "source": [
        "trainset.imgs"
      ],
      "execution_count": 13,
      "outputs": [
        {
          "output_type": "execute_result",
          "data": {
            "text/plain": [
              "[('./data/Train/cat/cat.0.jpg', 0),\n",
              " ('./data/Train/cat/cat.1.jpg', 0),\n",
              " ('./data/Train/cat/cat.10.jpg', 0),\n",
              " ('./data/Train/cat/cat.11.jpg', 0),\n",
              " ('./data/Train/cat/cat.12.jpg', 0),\n",
              " ('./data/Train/cat/cat.13.jpg', 0),\n",
              " ('./data/Train/cat/cat.14.jpg', 0),\n",
              " ('./data/Train/cat/cat.15.jpg', 0),\n",
              " ('./data/Train/cat/cat.16.jpg', 0),\n",
              " ('./data/Train/cat/cat.17.jpg', 0),\n",
              " ('./data/Train/cat/cat.18.jpg', 0),\n",
              " ('./data/Train/cat/cat.19.jpg', 0),\n",
              " ('./data/Train/cat/cat.2.jpg', 0),\n",
              " ('./data/Train/cat/cat.20.jpg', 0),\n",
              " ('./data/Train/cat/cat.21.jpg', 0),\n",
              " ('./data/Train/cat/cat.22.jpg', 0),\n",
              " ('./data/Train/cat/cat.23.jpg', 0),\n",
              " ('./data/Train/cat/cat.24.jpg', 0),\n",
              " ('./data/Train/cat/cat.25.jpg', 0),\n",
              " ('./data/Train/cat/cat.26.jpg', 0),\n",
              " ('./data/Train/cat/cat.27.jpg', 0),\n",
              " ('./data/Train/cat/cat.28.jpg', 0),\n",
              " ('./data/Train/cat/cat.29.jpg', 0),\n",
              " ('./data/Train/cat/cat.3.jpg', 0),\n",
              " ('./data/Train/cat/cat.30.jpg', 0),\n",
              " ('./data/Train/cat/cat.31.jpg', 0),\n",
              " ('./data/Train/cat/cat.32.jpg', 0),\n",
              " ('./data/Train/cat/cat.33.jpg', 0),\n",
              " ('./data/Train/cat/cat.34.jpg', 0),\n",
              " ('./data/Train/cat/cat.35.jpg', 0),\n",
              " ('./data/Train/cat/cat.36.jpg', 0),\n",
              " ('./data/Train/cat/cat.37.jpg', 0),\n",
              " ('./data/Train/cat/cat.38.jpg', 0),\n",
              " ('./data/Train/cat/cat.39.jpg', 0),\n",
              " ('./data/Train/cat/cat.4.jpg', 0),\n",
              " ('./data/Train/cat/cat.40.jpg', 0),\n",
              " ('./data/Train/cat/cat.41.jpg', 0),\n",
              " ('./data/Train/cat/cat.42.jpg', 0),\n",
              " ('./data/Train/cat/cat.43.jpg', 0),\n",
              " ('./data/Train/cat/cat.44.jpg', 0),\n",
              " ('./data/Train/cat/cat.45.jpg', 0),\n",
              " ('./data/Train/cat/cat.46.jpg', 0),\n",
              " ('./data/Train/cat/cat.47.jpg', 0),\n",
              " ('./data/Train/cat/cat.48.jpg', 0),\n",
              " ('./data/Train/cat/cat.49.jpg', 0),\n",
              " ('./data/Train/cat/cat.5.jpg', 0),\n",
              " ('./data/Train/cat/cat.50.jpg', 0),\n",
              " ('./data/Train/cat/cat.51.jpg', 0),\n",
              " ('./data/Train/cat/cat.52.jpg', 0),\n",
              " ('./data/Train/cat/cat.53.jpg', 0),\n",
              " ('./data/Train/cat/cat.54.jpg', 0),\n",
              " ('./data/Train/cat/cat.55.jpg', 0),\n",
              " ('./data/Train/cat/cat.56.jpg', 0),\n",
              " ('./data/Train/cat/cat.57.jpg', 0),\n",
              " ('./data/Train/cat/cat.58.jpg', 0),\n",
              " ('./data/Train/cat/cat.59.jpg', 0),\n",
              " ('./data/Train/cat/cat.6.jpg', 0),\n",
              " ('./data/Train/cat/cat.60.jpg', 0),\n",
              " ('./data/Train/cat/cat.61.jpg', 0),\n",
              " ('./data/Train/cat/cat.62.jpg', 0),\n",
              " ('./data/Train/cat/cat.63.jpg', 0),\n",
              " ('./data/Train/cat/cat.64.jpg', 0),\n",
              " ('./data/Train/cat/cat.65.jpg', 0),\n",
              " ('./data/Train/cat/cat.66.jpg', 0),\n",
              " ('./data/Train/cat/cat.67.jpg', 0),\n",
              " ('./data/Train/cat/cat.68.jpg', 0),\n",
              " ('./data/Train/cat/cat.69.jpg', 0),\n",
              " ('./data/Train/cat/cat.7.jpg', 0),\n",
              " ('./data/Train/cat/cat.70.jpg', 0),\n",
              " ('./data/Train/cat/cat.71.jpg', 0),\n",
              " ('./data/Train/cat/cat.72.jpg', 0),\n",
              " ('./data/Train/cat/cat.73.jpg', 0),\n",
              " ('./data/Train/cat/cat.74.jpg', 0),\n",
              " ('./data/Train/cat/cat.75.jpg', 0),\n",
              " ('./data/Train/cat/cat.76.jpg', 0),\n",
              " ('./data/Train/cat/cat.77.jpg', 0),\n",
              " ('./data/Train/cat/cat.78.jpg', 0),\n",
              " ('./data/Train/cat/cat.79.jpg', 0),\n",
              " ('./data/Train/cat/cat.8.jpg', 0),\n",
              " ('./data/Train/cat/cat.80.jpg', 0),\n",
              " ('./data/Train/cat/cat.81.jpg', 0),\n",
              " ('./data/Train/cat/cat.82.jpg', 0),\n",
              " ('./data/Train/cat/cat.83.jpg', 0),\n",
              " ('./data/Train/cat/cat.84.jpg', 0),\n",
              " ('./data/Train/cat/cat.85.jpg', 0),\n",
              " ('./data/Train/cat/cat.86.jpg', 0),\n",
              " ('./data/Train/cat/cat.87.jpg', 0),\n",
              " ('./data/Train/cat/cat.88.jpg', 0),\n",
              " ('./data/Train/cat/cat.89.jpg', 0),\n",
              " ('./data/Train/cat/cat.9.jpg', 0),\n",
              " ('./data/Train/cat/cat.90.jpg', 0),\n",
              " ('./data/Train/cat/cat.91.jpg', 0),\n",
              " ('./data/Train/cat/cat.92.jpg', 0),\n",
              " ('./data/Train/cat/cat.93.jpg', 0),\n",
              " ('./data/Train/cat/cat.94.jpg', 0),\n",
              " ('./data/Train/cat/cat.95.jpg', 0),\n",
              " ('./data/Train/cat/cat.96.jpg', 0),\n",
              " ('./data/Train/cat/cat.97.jpg', 0),\n",
              " ('./data/Train/cat/cat.98.jpg', 0),\n",
              " ('./data/Train/cat/cat.99.jpg', 0),\n",
              " ('./data/Train/dog/dog.0.jpg', 1),\n",
              " ('./data/Train/dog/dog.1.jpg', 1),\n",
              " ('./data/Train/dog/dog.10.jpg', 1),\n",
              " ('./data/Train/dog/dog.11.jpg', 1),\n",
              " ('./data/Train/dog/dog.12.jpg', 1),\n",
              " ('./data/Train/dog/dog.13.jpg', 1),\n",
              " ('./data/Train/dog/dog.14.jpg', 1),\n",
              " ('./data/Train/dog/dog.15.jpg', 1),\n",
              " ('./data/Train/dog/dog.16.jpg', 1),\n",
              " ('./data/Train/dog/dog.17.jpg', 1),\n",
              " ('./data/Train/dog/dog.18.jpg', 1),\n",
              " ('./data/Train/dog/dog.19.jpg', 1),\n",
              " ('./data/Train/dog/dog.2.jpg', 1),\n",
              " ('./data/Train/dog/dog.20.jpg', 1),\n",
              " ('./data/Train/dog/dog.21.jpg', 1),\n",
              " ('./data/Train/dog/dog.22.jpg', 1),\n",
              " ('./data/Train/dog/dog.23.jpg', 1),\n",
              " ('./data/Train/dog/dog.24.jpg', 1),\n",
              " ('./data/Train/dog/dog.25.jpg', 1),\n",
              " ('./data/Train/dog/dog.26.jpg', 1),\n",
              " ('./data/Train/dog/dog.27.jpg', 1),\n",
              " ('./data/Train/dog/dog.28.jpg', 1),\n",
              " ('./data/Train/dog/dog.29.jpg', 1),\n",
              " ('./data/Train/dog/dog.3.jpg', 1),\n",
              " ('./data/Train/dog/dog.30.jpg', 1),\n",
              " ('./data/Train/dog/dog.31.jpg', 1),\n",
              " ('./data/Train/dog/dog.32.jpg', 1),\n",
              " ('./data/Train/dog/dog.33.jpg', 1),\n",
              " ('./data/Train/dog/dog.34.jpg', 1),\n",
              " ('./data/Train/dog/dog.35.jpg', 1),\n",
              " ('./data/Train/dog/dog.36.jpg', 1),\n",
              " ('./data/Train/dog/dog.37.jpg', 1),\n",
              " ('./data/Train/dog/dog.38.jpg', 1),\n",
              " ('./data/Train/dog/dog.39.jpg', 1),\n",
              " ('./data/Train/dog/dog.4.jpg', 1),\n",
              " ('./data/Train/dog/dog.40.jpg', 1),\n",
              " ('./data/Train/dog/dog.41.jpg', 1),\n",
              " ('./data/Train/dog/dog.42.jpg', 1),\n",
              " ('./data/Train/dog/dog.43.jpg', 1),\n",
              " ('./data/Train/dog/dog.44.jpg', 1),\n",
              " ('./data/Train/dog/dog.45.jpg', 1),\n",
              " ('./data/Train/dog/dog.46.jpg', 1),\n",
              " ('./data/Train/dog/dog.47.jpg', 1),\n",
              " ('./data/Train/dog/dog.48.jpg', 1),\n",
              " ('./data/Train/dog/dog.49.jpg', 1),\n",
              " ('./data/Train/dog/dog.5.jpg', 1),\n",
              " ('./data/Train/dog/dog.50.jpg', 1),\n",
              " ('./data/Train/dog/dog.51.jpg', 1),\n",
              " ('./data/Train/dog/dog.52.jpg', 1),\n",
              " ('./data/Train/dog/dog.53.jpg', 1),\n",
              " ('./data/Train/dog/dog.54.jpg', 1),\n",
              " ('./data/Train/dog/dog.55.jpg', 1),\n",
              " ('./data/Train/dog/dog.56.jpg', 1),\n",
              " ('./data/Train/dog/dog.57.jpg', 1),\n",
              " ('./data/Train/dog/dog.58.jpg', 1),\n",
              " ('./data/Train/dog/dog.59.jpg', 1),\n",
              " ('./data/Train/dog/dog.6.jpg', 1),\n",
              " ('./data/Train/dog/dog.60.jpg', 1),\n",
              " ('./data/Train/dog/dog.61.jpg', 1),\n",
              " ('./data/Train/dog/dog.62.jpg', 1),\n",
              " ('./data/Train/dog/dog.63.jpg', 1),\n",
              " ('./data/Train/dog/dog.64.jpg', 1),\n",
              " ('./data/Train/dog/dog.65.jpg', 1),\n",
              " ('./data/Train/dog/dog.66.jpg', 1),\n",
              " ('./data/Train/dog/dog.67.jpg', 1),\n",
              " ('./data/Train/dog/dog.68.jpg', 1),\n",
              " ('./data/Train/dog/dog.69.jpg', 1),\n",
              " ('./data/Train/dog/dog.7.jpg', 1),\n",
              " ('./data/Train/dog/dog.70.jpg', 1),\n",
              " ('./data/Train/dog/dog.71.jpg', 1),\n",
              " ('./data/Train/dog/dog.72.jpg', 1),\n",
              " ('./data/Train/dog/dog.73.jpg', 1),\n",
              " ('./data/Train/dog/dog.74.jpg', 1),\n",
              " ('./data/Train/dog/dog.75.jpg', 1),\n",
              " ('./data/Train/dog/dog.76.jpg', 1),\n",
              " ('./data/Train/dog/dog.77.jpg', 1),\n",
              " ('./data/Train/dog/dog.78.jpg', 1),\n",
              " ('./data/Train/dog/dog.79.jpg', 1),\n",
              " ('./data/Train/dog/dog.8.jpg', 1),\n",
              " ('./data/Train/dog/dog.80.jpg', 1),\n",
              " ('./data/Train/dog/dog.81.jpg', 1),\n",
              " ('./data/Train/dog/dog.82.jpg', 1),\n",
              " ('./data/Train/dog/dog.83.jpg', 1),\n",
              " ('./data/Train/dog/dog.84.jpg', 1),\n",
              " ('./data/Train/dog/dog.85.jpg', 1),\n",
              " ('./data/Train/dog/dog.86.jpg', 1),\n",
              " ('./data/Train/dog/dog.87.jpg', 1),\n",
              " ('./data/Train/dog/dog.88.jpg', 1),\n",
              " ('./data/Train/dog/dog.89.jpg', 1),\n",
              " ('./data/Train/dog/dog.9.jpg', 1),\n",
              " ('./data/Train/dog/dog.90.jpg', 1),\n",
              " ('./data/Train/dog/dog.91.jpg', 1),\n",
              " ('./data/Train/dog/dog.92.jpg', 1),\n",
              " ('./data/Train/dog/dog.93.jpg', 1),\n",
              " ('./data/Train/dog/dog.94.jpg', 1),\n",
              " ('./data/Train/dog/dog.95.jpg', 1),\n",
              " ('./data/Train/dog/dog.96.jpg', 1),\n",
              " ('./data/Train/dog/dog.97.jpg', 1),\n",
              " ('./data/Train/dog/dog.98.jpg', 1),\n",
              " ('./data/Train/dog/dog.99.jpg', 1)]"
            ]
          },
          "metadata": {
            "tags": []
          },
          "execution_count": 13
        }
      ]
    },
    {
      "metadata": {
        "id": "8OtkcqOZ0wIW",
        "colab_type": "code",
        "colab": {}
      },
      "cell_type": "code",
      "source": [
        "trainloader = torch.utils.data.DataLoader(trainset, batch_size=20, shuffle=True, num_workers=2)"
      ],
      "execution_count": 0,
      "outputs": []
    },
    {
      "metadata": {
        "id": "abjW6dGn1HP-",
        "colab_type": "code",
        "colab": {}
      },
      "cell_type": "code",
      "source": [
        "criterion = nn.CrossEntropyLoss().cuda()"
      ],
      "execution_count": 0,
      "outputs": []
    },
    {
      "metadata": {
        "id": "ACuOdgBp1Isd",
        "colab_type": "code",
        "colab": {}
      },
      "cell_type": "code",
      "source": [
        "import torch.optim as optim\n",
        "optimizer = optim.SGD(net.parameters(), lr=0.001, momentum=0.9, weight_decay=5e-4)"
      ],
      "execution_count": 0,
      "outputs": []
    },
    {
      "metadata": {
        "id": "VbZCk3V91KQ0",
        "colab_type": "code",
        "colab": {}
      },
      "cell_type": "code",
      "source": [
        "# Training\n",
        "def train(epoch):\n",
        "    print('\\nEpoch: %d' % epoch)\n",
        "    net.train()\n",
        "    train_loss = 0.0\n",
        "    correct = 0.0\n",
        "    total = 0.0\n",
        "    for batch_idx, (inputs, targets) in enumerate(trainloader):\n",
        "        # inputs, targets = inputs.to(device), targets.to(device)\n",
        "        inputs, targets = Variable.cuda(inputs), Variable.cuda(targets)\n",
        "        # print(batch_idx)\n",
        "        optimizer.zero_grad()\n",
        "        outputs = net(inputs)\n",
        "        loss = criterion(outputs, targets)\n",
        "        loss.backward()\n",
        "        optimizer.step()\n",
        "        \n",
        "        # train_loss += loss.item()\n",
        "        train_loss += loss\n",
        "        _, predicted = outputs.max(1)\n",
        "        total += targets.size(0)\n",
        "        # correct += predicted.eq(targets).sum().item()\n",
        "        correct += predicted.eq(targets).long().sum()\n",
        "                \n",
        "        \n",
        "        print('Loss: %.3f | Acc: %.3f%% (%d/%d)'% (train_loss/(batch_idx+1), 100.*correct/total, correct, total))\n",
        "        #progress_bar(batch_idx, len(trainloader), 'Loss: %.3f | Acc: %.3f%% (%d/%d)'\n",
        "        #    % (train_loss/(batch_idx+1), 100.*correct/total, correct, total))"
      ],
      "execution_count": 0,
      "outputs": []
    },
    {
      "metadata": {
        "id": "wmq4m_xs75Ee",
        "colab_type": "code",
        "colab": {}
      },
      "cell_type": "code",
      "source": [
        "testset = torchvision.datasets.ImageFolder(root='./data/Valid', transform=transform_train)"
      ],
      "execution_count": 0,
      "outputs": []
    },
    {
      "metadata": {
        "id": "94926tae8emN",
        "colab_type": "code",
        "colab": {
          "base_uri": "https://localhost:8080/",
          "height": 35
        },
        "outputId": "45721165-7e8b-4366-d559-31a1af0ebb04"
      },
      "cell_type": "code",
      "source": [
        "testset.classes"
      ],
      "execution_count": 19,
      "outputs": [
        {
          "output_type": "execute_result",
          "data": {
            "text/plain": [
              "['cat', 'dog']"
            ]
          },
          "metadata": {
            "tags": []
          },
          "execution_count": 19
        }
      ]
    },
    {
      "metadata": {
        "id": "6bgJZhAZ8iNm",
        "colab_type": "code",
        "colab": {
          "base_uri": "https://localhost:8080/",
          "height": 35
        },
        "outputId": "6777fc0a-347b-4bf3-bb3e-829f275dcca2"
      },
      "cell_type": "code",
      "source": [
        "testset.class_to_idx"
      ],
      "execution_count": 20,
      "outputs": [
        {
          "output_type": "execute_result",
          "data": {
            "text/plain": [
              "{'cat': 0, 'dog': 1}"
            ]
          },
          "metadata": {
            "tags": []
          },
          "execution_count": 20
        }
      ]
    },
    {
      "metadata": {
        "id": "JYfe-TBT8kTY",
        "colab_type": "code",
        "colab": {
          "base_uri": "https://localhost:8080/",
          "height": 1817
        },
        "outputId": "a5c86c80-2297-417f-c31c-d0c093c035f6"
      },
      "cell_type": "code",
      "source": [
        "testset.imgs"
      ],
      "execution_count": 21,
      "outputs": [
        {
          "output_type": "execute_result",
          "data": {
            "text/plain": [
              "[('./data/Valid/cat/cat.100.jpg', 0),\n",
              " ('./data/Valid/cat/cat.101.jpg', 0),\n",
              " ('./data/Valid/cat/cat.102.jpg', 0),\n",
              " ('./data/Valid/cat/cat.103.jpg', 0),\n",
              " ('./data/Valid/cat/cat.104.jpg', 0),\n",
              " ('./data/Valid/cat/cat.105.jpg', 0),\n",
              " ('./data/Valid/cat/cat.106.jpg', 0),\n",
              " ('./data/Valid/cat/cat.107.jpg', 0),\n",
              " ('./data/Valid/cat/cat.108.jpg', 0),\n",
              " ('./data/Valid/cat/cat.109.jpg', 0),\n",
              " ('./data/Valid/cat/cat.110.jpg', 0),\n",
              " ('./data/Valid/cat/cat.111.jpg', 0),\n",
              " ('./data/Valid/cat/cat.112.jpg', 0),\n",
              " ('./data/Valid/cat/cat.113.jpg', 0),\n",
              " ('./data/Valid/cat/cat.114.jpg', 0),\n",
              " ('./data/Valid/cat/cat.115.jpg', 0),\n",
              " ('./data/Valid/cat/cat.116.jpg', 0),\n",
              " ('./data/Valid/cat/cat.117.jpg', 0),\n",
              " ('./data/Valid/cat/cat.118.jpg', 0),\n",
              " ('./data/Valid/cat/cat.119.jpg', 0),\n",
              " ('./data/Valid/cat/cat.120.jpg', 0),\n",
              " ('./data/Valid/cat/cat.121.jpg', 0),\n",
              " ('./data/Valid/cat/cat.122.jpg', 0),\n",
              " ('./data/Valid/cat/cat.123.jpg', 0),\n",
              " ('./data/Valid/cat/cat.124.jpg', 0),\n",
              " ('./data/Valid/cat/cat.125.jpg', 0),\n",
              " ('./data/Valid/cat/cat.126.jpg', 0),\n",
              " ('./data/Valid/cat/cat.127.jpg', 0),\n",
              " ('./data/Valid/cat/cat.128.jpg', 0),\n",
              " ('./data/Valid/cat/cat.129.jpg', 0),\n",
              " ('./data/Valid/cat/cat.130.jpg', 0),\n",
              " ('./data/Valid/cat/cat.131.jpg', 0),\n",
              " ('./data/Valid/cat/cat.132.jpg', 0),\n",
              " ('./data/Valid/cat/cat.133.jpg', 0),\n",
              " ('./data/Valid/cat/cat.134.jpg', 0),\n",
              " ('./data/Valid/cat/cat.135.jpg', 0),\n",
              " ('./data/Valid/cat/cat.136.jpg', 0),\n",
              " ('./data/Valid/cat/cat.137.jpg', 0),\n",
              " ('./data/Valid/cat/cat.138.jpg', 0),\n",
              " ('./data/Valid/cat/cat.139.jpg', 0),\n",
              " ('./data/Valid/cat/cat.140.jpg', 0),\n",
              " ('./data/Valid/cat/cat.141.jpg', 0),\n",
              " ('./data/Valid/cat/cat.142.jpg', 0),\n",
              " ('./data/Valid/cat/cat.143.jpg', 0),\n",
              " ('./data/Valid/cat/cat.144.jpg', 0),\n",
              " ('./data/Valid/cat/cat.145.jpg', 0),\n",
              " ('./data/Valid/cat/cat.146.jpg', 0),\n",
              " ('./data/Valid/cat/cat.147.jpg', 0),\n",
              " ('./data/Valid/cat/cat.148.jpg', 0),\n",
              " ('./data/Valid/cat/cat.149.jpg', 0),\n",
              " ('./data/Valid/dog/dog.100.jpg', 1),\n",
              " ('./data/Valid/dog/dog.101.jpg', 1),\n",
              " ('./data/Valid/dog/dog.102.jpg', 1),\n",
              " ('./data/Valid/dog/dog.103.jpg', 1),\n",
              " ('./data/Valid/dog/dog.104.jpg', 1),\n",
              " ('./data/Valid/dog/dog.105.jpg', 1),\n",
              " ('./data/Valid/dog/dog.106.jpg', 1),\n",
              " ('./data/Valid/dog/dog.107.jpg', 1),\n",
              " ('./data/Valid/dog/dog.108.jpg', 1),\n",
              " ('./data/Valid/dog/dog.109.jpg', 1),\n",
              " ('./data/Valid/dog/dog.110.jpg', 1),\n",
              " ('./data/Valid/dog/dog.111.jpg', 1),\n",
              " ('./data/Valid/dog/dog.112.jpg', 1),\n",
              " ('./data/Valid/dog/dog.113.jpg', 1),\n",
              " ('./data/Valid/dog/dog.114.jpg', 1),\n",
              " ('./data/Valid/dog/dog.115.jpg', 1),\n",
              " ('./data/Valid/dog/dog.116.jpg', 1),\n",
              " ('./data/Valid/dog/dog.117.jpg', 1),\n",
              " ('./data/Valid/dog/dog.118.jpg', 1),\n",
              " ('./data/Valid/dog/dog.119.jpg', 1),\n",
              " ('./data/Valid/dog/dog.120.jpg', 1),\n",
              " ('./data/Valid/dog/dog.121.jpg', 1),\n",
              " ('./data/Valid/dog/dog.122.jpg', 1),\n",
              " ('./data/Valid/dog/dog.123.jpg', 1),\n",
              " ('./data/Valid/dog/dog.124.jpg', 1),\n",
              " ('./data/Valid/dog/dog.125.jpg', 1),\n",
              " ('./data/Valid/dog/dog.126.jpg', 1),\n",
              " ('./data/Valid/dog/dog.127.jpg', 1),\n",
              " ('./data/Valid/dog/dog.128.jpg', 1),\n",
              " ('./data/Valid/dog/dog.129.jpg', 1),\n",
              " ('./data/Valid/dog/dog.130.jpg', 1),\n",
              " ('./data/Valid/dog/dog.131.jpg', 1),\n",
              " ('./data/Valid/dog/dog.132.jpg', 1),\n",
              " ('./data/Valid/dog/dog.133.jpg', 1),\n",
              " ('./data/Valid/dog/dog.134.jpg', 1),\n",
              " ('./data/Valid/dog/dog.135.jpg', 1),\n",
              " ('./data/Valid/dog/dog.136.jpg', 1),\n",
              " ('./data/Valid/dog/dog.137.jpg', 1),\n",
              " ('./data/Valid/dog/dog.138.jpg', 1),\n",
              " ('./data/Valid/dog/dog.139.jpg', 1),\n",
              " ('./data/Valid/dog/dog.140.jpg', 1),\n",
              " ('./data/Valid/dog/dog.141.jpg', 1),\n",
              " ('./data/Valid/dog/dog.142.jpg', 1),\n",
              " ('./data/Valid/dog/dog.143.jpg', 1),\n",
              " ('./data/Valid/dog/dog.144.jpg', 1),\n",
              " ('./data/Valid/dog/dog.145.jpg', 1),\n",
              " ('./data/Valid/dog/dog.146.jpg', 1),\n",
              " ('./data/Valid/dog/dog.147.jpg', 1),\n",
              " ('./data/Valid/dog/dog.148.jpg', 1),\n",
              " ('./data/Valid/dog/dog.149.jpg', 1)]"
            ]
          },
          "metadata": {
            "tags": []
          },
          "execution_count": 21
        }
      ]
    },
    {
      "metadata": {
        "id": "3X-VE-aY8I6u",
        "colab_type": "code",
        "colab": {}
      },
      "cell_type": "code",
      "source": [
        "testloader = torch.utils.data.DataLoader(testset, batch_size=10, shuffle=False, num_workers=2)"
      ],
      "execution_count": 0,
      "outputs": []
    },
    {
      "metadata": {
        "id": "m1Nj7La87KZd",
        "colab_type": "code",
        "colab": {}
      },
      "cell_type": "code",
      "source": [
        "def test(epoch):\n",
        "    # global best_acc\n",
        "    print('\\nEpoch: %d' % epoch)\n",
        "    net.eval()\n",
        "    test_loss = 0\n",
        "    correct = 0\n",
        "    total = 0\n",
        "    # with torch.no_grad():\n",
        "    for batch_idx, (inputs, targets) in enumerate(testloader):\n",
        "        #inputs, targets = inputs.to(device), targets.to(device)\n",
        "        inputs, targets = Variable.cuda(inputs), Variable.cuda(targets)\n",
        "        # print(inputs)\n",
        "        # print(batch_idx)\n",
        "        outputs = net(inputs)\n",
        "        loss = criterion(outputs, targets)\n",
        "        \n",
        "        # test_loss += loss.item()\n",
        "        test_loss += loss\n",
        "        _, predicted = outputs.max(1)\n",
        "        total += targets.size(0)\n",
        "        correct += predicted.eq(targets).long().sum()\n",
        "\n",
        "        print('Loss: %.3f | Acc: %.3f%% (%d/%d)'% (test_loss/(batch_idx+1), 100.*correct/total, correct, total))\n",
        "\n",
        "        # progress_bar(batch_idx, len(testloader), 'Loss: %.3f | Acc: %.3f%% (%d/%d)'\n",
        "        #    % (test_loss/(batch_idx+1), 100.*correct/total, correct, total))"
      ],
      "execution_count": 0,
      "outputs": []
    },
    {
      "metadata": {
        "id": "BXcTLVbc1MP9",
        "colab_type": "code",
        "colab": {
          "base_uri": "https://localhost:8080/",
          "height": 6497
        },
        "outputId": "036c5d67-de5f-4272-e581-ac98ae8a8e90"
      },
      "cell_type": "code",
      "source": [
        "start_epoch = 0\n",
        "for epoch in range(start_epoch, start_epoch+30):\n",
        "    train(epoch)\n",
        "    # test(epoch)"
      ],
      "execution_count": 25,
      "outputs": [
        {
          "output_type": "stream",
          "text": [
            "\n",
            "Epoch: 0\n",
            "Loss: 0.622 | Acc: 55.000% (11/20)\n",
            "Loss: 0.851 | Acc: 52.000% (21/40)\n",
            "Loss: 0.710 | Acc: 63.000% (38/60)\n",
            "Loss: 0.668 | Acc: 65.000% (52/80)\n",
            "Loss: 0.624 | Acc: 66.000% (66/100)\n",
            "Loss: 0.694 | Acc: 64.000% (77/120)\n",
            "Loss: 0.695 | Acc: 65.000% (92/140)\n",
            "Loss: 0.662 | Acc: 66.000% (107/160)\n",
            "Loss: 0.680 | Acc: 67.000% (121/180)\n",
            "Loss: 0.670 | Acc: 67.000% (135/200)\n",
            "\n",
            "Epoch: 1\n",
            "Loss: 0.857 | Acc: 55.000% (11/20)\n",
            "Loss: 0.786 | Acc: 60.000% (24/40)\n",
            "Loss: 0.663 | Acc: 70.000% (42/60)\n",
            "Loss: 0.712 | Acc: 68.000% (55/80)\n",
            "Loss: 0.711 | Acc: 70.000% (70/100)\n",
            "Loss: 0.748 | Acc: 68.000% (82/120)\n",
            "Loss: 0.713 | Acc: 69.000% (97/140)\n",
            "Loss: 0.677 | Acc: 71.000% (114/160)\n",
            "Loss: 0.659 | Acc: 71.000% (129/180)\n",
            "Loss: 0.685 | Acc: 71.000% (143/200)\n",
            "\n",
            "Epoch: 2\n",
            "Loss: 1.271 | Acc: 35.000% (7/20)\n",
            "Loss: 1.231 | Acc: 47.000% (19/40)\n",
            "Loss: 0.960 | Acc: 60.000% (36/60)\n",
            "Loss: 0.825 | Acc: 65.000% (52/80)\n",
            "Loss: 0.761 | Acc: 67.000% (67/100)\n",
            "Loss: 0.755 | Acc: 67.000% (81/120)\n",
            "Loss: 0.717 | Acc: 69.000% (97/140)\n",
            "Loss: 0.702 | Acc: 71.000% (114/160)\n",
            "Loss: 0.702 | Acc: 71.000% (128/180)\n",
            "Loss: 0.714 | Acc: 70.000% (140/200)\n",
            "\n",
            "Epoch: 3\n",
            "Loss: 0.486 | Acc: 85.000% (17/20)\n",
            "Loss: 0.446 | Acc: 87.000% (35/40)\n",
            "Loss: 0.518 | Acc: 78.000% (47/60)\n",
            "Loss: 0.616 | Acc: 75.000% (60/80)\n",
            "Loss: 0.607 | Acc: 73.000% (73/100)\n",
            "Loss: 0.639 | Acc: 73.000% (88/120)\n",
            "Loss: 0.602 | Acc: 74.000% (104/140)\n",
            "Loss: 0.605 | Acc: 74.000% (119/160)\n",
            "Loss: 0.592 | Acc: 74.000% (134/180)\n",
            "Loss: 0.574 | Acc: 76.000% (152/200)\n",
            "\n",
            "Epoch: 4\n",
            "Loss: 0.590 | Acc: 80.000% (16/20)\n",
            "Loss: 0.578 | Acc: 75.000% (30/40)\n",
            "Loss: 0.501 | Acc: 78.000% (47/60)\n",
            "Loss: 0.530 | Acc: 72.000% (58/80)\n",
            "Loss: 0.518 | Acc: 75.000% (75/100)\n",
            "Loss: 0.508 | Acc: 76.000% (92/120)\n",
            "Loss: 0.516 | Acc: 74.000% (104/140)\n",
            "Loss: 0.512 | Acc: 74.000% (119/160)\n",
            "Loss: 0.497 | Acc: 76.000% (137/180)\n",
            "Loss: 0.482 | Acc: 77.000% (154/200)\n",
            "\n",
            "Epoch: 5\n",
            "Loss: 0.412 | Acc: 85.000% (17/20)\n",
            "Loss: 0.356 | Acc: 85.000% (34/40)\n",
            "Loss: 0.331 | Acc: 88.000% (53/60)\n",
            "Loss: 0.334 | Acc: 87.000% (70/80)\n",
            "Loss: 0.395 | Acc: 81.000% (81/100)\n",
            "Loss: 0.384 | Acc: 82.000% (99/120)\n",
            "Loss: 0.356 | Acc: 85.000% (119/140)\n",
            "Loss: 0.371 | Acc: 83.000% (133/160)\n",
            "Loss: 0.405 | Acc: 81.000% (147/180)\n",
            "Loss: 0.429 | Acc: 81.000% (162/200)\n",
            "\n",
            "Epoch: 6\n",
            "Loss: 0.247 | Acc: 90.000% (18/20)\n",
            "Loss: 0.453 | Acc: 75.000% (30/40)\n",
            "Loss: 0.442 | Acc: 73.000% (44/60)\n",
            "Loss: 0.414 | Acc: 76.000% (61/80)\n",
            "Loss: 0.403 | Acc: 78.000% (78/100)\n",
            "Loss: 0.382 | Acc: 80.000% (96/120)\n",
            "Loss: 0.363 | Acc: 81.000% (114/140)\n",
            "Loss: 0.396 | Acc: 81.000% (131/160)\n",
            "Loss: 0.409 | Acc: 81.000% (146/180)\n",
            "Loss: 0.395 | Acc: 82.000% (164/200)\n",
            "\n",
            "Epoch: 7\n",
            "Loss: 0.220 | Acc: 95.000% (19/20)\n",
            "Loss: 0.225 | Acc: 95.000% (38/40)\n",
            "Loss: 0.245 | Acc: 91.000% (55/60)\n"
          ],
          "name": "stdout"
        },
        {
          "output_type": "stream",
          "text": [
            "Loss: 0.230 | Acc: 93.000% (75/80)\n",
            "Loss: 0.247 | Acc: 91.000% (91/100)\n",
            "Loss: 0.241 | Acc: 91.000% (110/120)\n",
            "Loss: 0.247 | Acc: 90.000% (127/140)\n",
            "Loss: 0.250 | Acc: 90.000% (145/160)\n",
            "Loss: 0.248 | Acc: 90.000% (162/180)\n",
            "Loss: 0.273 | Acc: 89.000% (178/200)\n",
            "\n",
            "Epoch: 8\n",
            "Loss: 0.271 | Acc: 90.000% (18/20)\n",
            "Loss: 0.239 | Acc: 87.000% (35/40)\n",
            "Loss: 0.230 | Acc: 90.000% (54/60)\n",
            "Loss: 0.251 | Acc: 88.000% (71/80)\n",
            "Loss: 0.273 | Acc: 86.000% (86/100)\n",
            "Loss: 0.246 | Acc: 88.000% (106/120)\n",
            "Loss: 0.238 | Acc: 89.000% (125/140)\n",
            "Loss: 0.255 | Acc: 88.000% (142/160)\n",
            "Loss: 0.267 | Acc: 88.000% (159/180)\n",
            "Loss: 0.267 | Acc: 88.000% (176/200)\n",
            "\n",
            "Epoch: 9\n",
            "Loss: 0.254 | Acc: 90.000% (18/20)\n",
            "Loss: 0.313 | Acc: 82.000% (33/40)\n",
            "Loss: 0.291 | Acc: 83.000% (50/60)\n",
            "Loss: 0.336 | Acc: 83.000% (67/80)\n",
            "Loss: 0.374 | Acc: 81.000% (81/100)\n",
            "Loss: 0.347 | Acc: 83.000% (100/120)\n",
            "Loss: 0.342 | Acc: 82.000% (116/140)\n",
            "Loss: 0.367 | Acc: 82.000% (132/160)\n",
            "Loss: 0.336 | Acc: 84.000% (152/180)\n",
            "Loss: 0.319 | Acc: 85.000% (171/200)\n",
            "\n",
            "Epoch: 10\n",
            "Loss: 0.137 | Acc: 95.000% (19/20)\n",
            "Loss: 0.190 | Acc: 90.000% (36/40)\n",
            "Loss: 0.221 | Acc: 90.000% (54/60)\n",
            "Loss: 0.188 | Acc: 92.000% (74/80)\n",
            "Loss: 0.170 | Acc: 94.000% (94/100)\n",
            "Loss: 0.173 | Acc: 93.000% (112/120)\n",
            "Loss: 0.207 | Acc: 92.000% (129/140)\n",
            "Loss: 0.229 | Acc: 90.000% (144/160)\n",
            "Loss: 0.221 | Acc: 90.000% (163/180)\n",
            "Loss: 0.248 | Acc: 89.000% (178/200)\n",
            "\n",
            "Epoch: 11\n",
            "Loss: 0.226 | Acc: 95.000% (19/20)\n",
            "Loss: 0.215 | Acc: 92.000% (37/40)\n",
            "Loss: 0.226 | Acc: 93.000% (56/60)\n",
            "Loss: 0.197 | Acc: 93.000% (75/80)\n",
            "Loss: 0.226 | Acc: 90.000% (90/100)\n",
            "Loss: 0.227 | Acc: 90.000% (109/120)\n",
            "Loss: 0.216 | Acc: 91.000% (128/140)\n",
            "Loss: 0.204 | Acc: 91.000% (147/160)\n",
            "Loss: 0.195 | Acc: 92.000% (166/180)\n",
            "Loss: 0.187 | Acc: 93.000% (186/200)\n",
            "\n",
            "Epoch: 12\n",
            "Loss: 0.051 | Acc: 100.000% (20/20)\n",
            "Loss: 0.177 | Acc: 95.000% (38/40)\n",
            "Loss: 0.187 | Acc: 91.000% (55/60)\n",
            "Loss: 0.159 | Acc: 93.000% (75/80)\n",
            "Loss: 0.172 | Acc: 91.000% (91/100)\n",
            "Loss: 0.164 | Acc: 91.000% (110/120)\n",
            "Loss: 0.149 | Acc: 92.000% (129/140)\n",
            "Loss: 0.135 | Acc: 93.000% (149/160)\n",
            "Loss: 0.137 | Acc: 92.000% (167/180)\n",
            "Loss: 0.129 | Acc: 93.000% (187/200)\n",
            "\n",
            "Epoch: 13\n",
            "Loss: 0.244 | Acc: 90.000% (18/20)\n",
            "Loss: 0.144 | Acc: 95.000% (38/40)\n",
            "Loss: 0.128 | Acc: 95.000% (57/60)\n",
            "Loss: 0.111 | Acc: 96.000% (77/80)\n",
            "Loss: 0.101 | Acc: 97.000% (97/100)\n",
            "Loss: 0.089 | Acc: 97.000% (117/120)\n",
            "Loss: 0.082 | Acc: 97.000% (137/140)\n",
            "Loss: 0.082 | Acc: 97.000% (156/160)\n",
            "Loss: 0.081 | Acc: 97.000% (175/180)\n",
            "Loss: 0.077 | Acc: 97.000% (195/200)\n",
            "\n",
            "Epoch: 14\n",
            "Loss: 0.108 | Acc: 95.000% (19/20)\n",
            "Loss: 0.070 | Acc: 97.000% (39/40)\n",
            "Loss: 0.055 | Acc: 98.000% (59/60)\n",
            "Loss: 0.081 | Acc: 97.000% (78/80)\n",
            "Loss: 0.095 | Acc: 97.000% (97/100)\n"
          ],
          "name": "stdout"
        },
        {
          "output_type": "stream",
          "text": [
            "Loss: 0.083 | Acc: 97.000% (117/120)\n",
            "Loss: 0.080 | Acc: 97.000% (137/140)\n",
            "Loss: 0.078 | Acc: 98.000% (157/160)\n",
            "Loss: 0.090 | Acc: 97.000% (176/180)\n",
            "Loss: 0.087 | Acc: 98.000% (196/200)\n",
            "\n",
            "Epoch: 15\n",
            "Loss: 0.017 | Acc: 100.000% (20/20)\n",
            "Loss: 0.160 | Acc: 92.000% (37/40)\n",
            "Loss: 0.163 | Acc: 93.000% (56/60)\n",
            "Loss: 0.128 | Acc: 95.000% (76/80)\n",
            "Loss: 0.114 | Acc: 95.000% (95/100)\n",
            "Loss: 0.113 | Acc: 95.000% (115/120)\n",
            "Loss: 0.105 | Acc: 96.000% (135/140)\n",
            "Loss: 0.150 | Acc: 93.000% (149/160)\n",
            "Loss: 0.148 | Acc: 93.000% (168/180)\n",
            "Loss: 0.150 | Acc: 93.000% (186/200)\n",
            "\n",
            "Epoch: 16\n",
            "Loss: 0.082 | Acc: 95.000% (19/20)\n",
            "Loss: 0.065 | Acc: 97.000% (39/40)\n",
            "Loss: 0.046 | Acc: 98.000% (59/60)\n",
            "Loss: 0.197 | Acc: 88.000% (71/80)\n",
            "Loss: 0.173 | Acc: 91.000% (91/100)\n",
            "Loss: 0.145 | Acc: 92.000% (111/120)\n",
            "Loss: 0.134 | Acc: 92.000% (130/140)\n",
            "Loss: 0.120 | Acc: 93.000% (150/160)\n",
            "Loss: 0.151 | Acc: 92.000% (167/180)\n",
            "Loss: 0.152 | Acc: 93.000% (186/200)\n",
            "\n",
            "Epoch: 17\n",
            "Loss: 0.087 | Acc: 90.000% (18/20)\n",
            "Loss: 0.053 | Acc: 95.000% (38/40)\n",
            "Loss: 0.056 | Acc: 96.000% (58/60)\n",
            "Loss: 0.044 | Acc: 97.000% (78/80)\n",
            "Loss: 0.037 | Acc: 98.000% (98/100)\n",
            "Loss: 0.035 | Acc: 98.000% (118/120)\n",
            "Loss: 0.054 | Acc: 97.000% (137/140)\n",
            "Loss: 0.091 | Acc: 96.000% (155/160)\n",
            "Loss: 0.115 | Acc: 95.000% (172/180)\n",
            "Loss: 0.127 | Acc: 95.000% (190/200)\n",
            "\n",
            "Epoch: 18\n",
            "Loss: 0.066 | Acc: 95.000% (19/20)\n",
            "Loss: 0.045 | Acc: 97.000% (39/40)\n",
            "Loss: 0.036 | Acc: 98.000% (59/60)\n",
            "Loss: 0.107 | Acc: 95.000% (76/80)\n",
            "Loss: 0.094 | Acc: 96.000% (96/100)\n",
            "Loss: 0.090 | Acc: 96.000% (116/120)\n",
            "Loss: 0.088 | Acc: 97.000% (136/140)\n",
            "Loss: 0.079 | Acc: 97.000% (156/160)\n",
            "Loss: 0.076 | Acc: 97.000% (176/180)\n",
            "Loss: 0.092 | Acc: 96.000% (193/200)\n",
            "\n",
            "Epoch: 19\n",
            "Loss: 0.095 | Acc: 95.000% (19/20)\n",
            "Loss: 0.057 | Acc: 97.000% (39/40)\n",
            "Loss: 0.046 | Acc: 98.000% (59/60)\n",
            "Loss: 0.074 | Acc: 97.000% (78/80)\n",
            "Loss: 0.067 | Acc: 98.000% (98/100)\n",
            "Loss: 0.103 | Acc: 96.000% (116/120)\n",
            "Loss: 0.103 | Acc: 96.000% (135/140)\n",
            "Loss: 0.094 | Acc: 96.000% (155/160)\n",
            "Loss: 0.085 | Acc: 97.000% (175/180)\n",
            "Loss: 0.078 | Acc: 97.000% (195/200)\n",
            "\n",
            "Epoch: 20\n",
            "Loss: 0.021 | Acc: 100.000% (20/20)\n",
            "Loss: 0.014 | Acc: 100.000% (40/40)\n",
            "Loss: 0.012 | Acc: 100.000% (60/60)\n",
            "Loss: 0.010 | Acc: 100.000% (80/80)\n",
            "Loss: 0.038 | Acc: 98.000% (98/100)\n",
            "Loss: 0.053 | Acc: 97.000% (117/120)\n",
            "Loss: 0.097 | Acc: 94.000% (132/140)\n",
            "Loss: 0.086 | Acc: 95.000% (152/160)\n",
            "Loss: 0.079 | Acc: 95.000% (172/180)\n",
            "Loss: 0.106 | Acc: 94.000% (189/200)\n",
            "\n",
            "Epoch: 21\n",
            "Loss: 0.176 | Acc: 90.000% (18/20)\n",
            "Loss: 0.120 | Acc: 95.000% (38/40)\n",
            "Loss: 0.085 | Acc: 96.000% (58/60)\n",
            "Loss: 0.080 | Acc: 96.000% (77/80)\n",
            "Loss: 0.082 | Acc: 96.000% (96/100)\n",
            "Loss: 0.091 | Acc: 95.000% (115/120)\n",
            "Loss: 0.087 | Acc: 95.000% (134/140)\n"
          ],
          "name": "stdout"
        },
        {
          "output_type": "stream",
          "text": [
            "Loss: 0.088 | Acc: 95.000% (152/160)\n",
            "Loss: 0.088 | Acc: 95.000% (171/180)\n",
            "Loss: 0.082 | Acc: 95.000% (191/200)\n",
            "\n",
            "Epoch: 22\n",
            "Loss: 0.104 | Acc: 95.000% (19/20)\n",
            "Loss: 0.073 | Acc: 97.000% (39/40)\n",
            "Loss: 0.056 | Acc: 98.000% (59/60)\n",
            "Loss: 0.062 | Acc: 97.000% (78/80)\n",
            "Loss: 0.087 | Acc: 97.000% (97/100)\n",
            "Loss: 0.073 | Acc: 97.000% (117/120)\n",
            "Loss: 0.067 | Acc: 97.000% (137/140)\n",
            "Loss: 0.071 | Acc: 97.000% (156/160)\n",
            "Loss: 0.064 | Acc: 97.000% (176/180)\n",
            "Loss: 0.058 | Acc: 98.000% (196/200)\n",
            "\n",
            "Epoch: 23\n",
            "Loss: 0.042 | Acc: 100.000% (20/20)\n",
            "Loss: 0.024 | Acc: 100.000% (40/40)\n",
            "Loss: 0.020 | Acc: 100.000% (60/60)\n",
            "Loss: 0.021 | Acc: 100.000% (80/80)\n",
            "Loss: 0.064 | Acc: 99.000% (99/100)\n",
            "Loss: 0.055 | Acc: 99.000% (119/120)\n",
            "Loss: 0.049 | Acc: 99.000% (139/140)\n",
            "Loss: 0.057 | Acc: 98.000% (158/160)\n",
            "Loss: 0.054 | Acc: 98.000% (178/180)\n",
            "Loss: 0.049 | Acc: 99.000% (198/200)\n",
            "\n",
            "Epoch: 24\n",
            "Loss: 0.024 | Acc: 100.000% (20/20)\n",
            "Loss: 0.026 | Acc: 100.000% (40/40)\n",
            "Loss: 0.044 | Acc: 98.000% (59/60)\n",
            "Loss: 0.047 | Acc: 97.000% (78/80)\n",
            "Loss: 0.044 | Acc: 98.000% (98/100)\n",
            "Loss: 0.051 | Acc: 97.000% (117/120)\n",
            "Loss: 0.045 | Acc: 97.000% (137/140)\n",
            "Loss: 0.040 | Acc: 98.000% (157/160)\n",
            "Loss: 0.037 | Acc: 98.000% (177/180)\n",
            "Loss: 0.034 | Acc: 98.000% (197/200)\n",
            "\n",
            "Epoch: 25\n",
            "Loss: 0.003 | Acc: 100.000% (20/20)\n",
            "Loss: 0.010 | Acc: 100.000% (40/40)\n",
            "Loss: 0.009 | Acc: 100.000% (60/60)\n",
            "Loss: 0.012 | Acc: 100.000% (80/80)\n",
            "Loss: 0.015 | Acc: 100.000% (100/100)\n",
            "Loss: 0.013 | Acc: 100.000% (120/120)\n",
            "Loss: 0.016 | Acc: 100.000% (140/140)\n",
            "Loss: 0.025 | Acc: 99.000% (159/160)\n",
            "Loss: 0.025 | Acc: 99.000% (179/180)\n",
            "Loss: 0.023 | Acc: 99.000% (199/200)\n",
            "\n",
            "Epoch: 26\n",
            "Loss: 0.011 | Acc: 100.000% (20/20)\n",
            "Loss: 0.017 | Acc: 100.000% (40/40)\n",
            "Loss: 0.012 | Acc: 100.000% (60/60)\n",
            "Loss: 0.011 | Acc: 100.000% (80/80)\n",
            "Loss: 0.010 | Acc: 100.000% (100/100)\n",
            "Loss: 0.013 | Acc: 100.000% (120/120)\n",
            "Loss: 0.048 | Acc: 99.000% (139/140)\n",
            "Loss: 0.053 | Acc: 98.000% (158/160)\n",
            "Loss: 0.058 | Acc: 98.000% (177/180)\n",
            "Loss: 0.065 | Acc: 98.000% (196/200)\n",
            "\n",
            "Epoch: 27\n",
            "Loss: 0.030 | Acc: 100.000% (20/20)\n",
            "Loss: 0.031 | Acc: 100.000% (40/40)\n",
            "Loss: 0.026 | Acc: 100.000% (60/60)\n",
            "Loss: 0.021 | Acc: 100.000% (80/80)\n",
            "Loss: 0.017 | Acc: 100.000% (100/100)\n",
            "Loss: 0.019 | Acc: 100.000% (120/120)\n",
            "Loss: 0.018 | Acc: 100.000% (140/140)\n",
            "Loss: 0.016 | Acc: 100.000% (160/160)\n",
            "Loss: 0.015 | Acc: 100.000% (180/180)\n",
            "Loss: 0.014 | Acc: 100.000% (200/200)\n",
            "\n",
            "Epoch: 28\n",
            "Loss: 0.015 | Acc: 100.000% (20/20)\n",
            "Loss: 0.008 | Acc: 100.000% (40/40)\n",
            "Loss: 0.014 | Acc: 100.000% (60/60)\n",
            "Loss: 0.011 | Acc: 100.000% (80/80)\n",
            "Loss: 0.012 | Acc: 100.000% (100/100)\n",
            "Loss: 0.011 | Acc: 100.000% (120/120)\n",
            "Loss: 0.018 | Acc: 99.000% (139/140)\n",
            "Loss: 0.024 | Acc: 98.000% (158/160)\n",
            "Loss: 0.024 | Acc: 98.000% (178/180)\n"
          ],
          "name": "stdout"
        },
        {
          "output_type": "stream",
          "text": [
            "Loss: 0.021 | Acc: 99.000% (198/200)\n",
            "\n",
            "Epoch: 29\n",
            "Loss: 0.017 | Acc: 100.000% (20/20)\n",
            "Loss: 0.010 | Acc: 100.000% (40/40)\n",
            "Loss: 0.019 | Acc: 98.000% (59/60)\n",
            "Loss: 0.015 | Acc: 98.000% (79/80)\n",
            "Loss: 0.020 | Acc: 99.000% (99/100)\n",
            "Loss: 0.016 | Acc: 99.000% (119/120)\n",
            "Loss: 0.015 | Acc: 99.000% (139/140)\n",
            "Loss: 0.016 | Acc: 99.000% (159/160)\n",
            "Loss: 0.019 | Acc: 98.000% (178/180)\n",
            "Loss: 0.019 | Acc: 99.000% (198/200)\n"
          ],
          "name": "stdout"
        }
      ]
    },
    {
      "metadata": {
        "id": "NlMv_TOB1PXO",
        "colab_type": "code",
        "colab": {}
      },
      "cell_type": "code",
      "source": [
        ""
      ],
      "execution_count": 0,
      "outputs": []
    }
  ]
}