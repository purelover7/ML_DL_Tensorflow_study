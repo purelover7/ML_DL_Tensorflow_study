{
 "cells": [
  {
   "cell_type": "markdown",
   "metadata": {},
   "source": [
    "# Lab 09-1"
   ]
  },
  {
   "cell_type": "markdown",
   "metadata": {},
   "source": [
    "## Source1 - not Deep"
   ]
  },
  {
   "cell_type": "code",
   "execution_count": 20,
   "metadata": {
    "scrolled": false
   },
   "outputs": [
    {
     "name": "stdout",
     "output_type": "stream",
     "text": [
      "0 Cost :  0.74663\n",
      "1000 Cost :  0.693151\n",
      "2000 Cost :  0.693147\n",
      "3000 Cost :  0.693147\n",
      "4000 Cost :  0.693147\n",
      "5000 Cost :  0.693147\n",
      "6000 Cost :  0.693147\n",
      "7000 Cost :  0.693147\n",
      "8000 Cost :  0.693147\n",
      "9000 Cost :  0.693147\n",
      "10000 Cost :  0.693147\n",
      "[array([[ 0.5],\n",
      "       [ 0.5],\n",
      "       [ 0.5],\n",
      "       [ 0.5]], dtype=float32), array([[ 0.],\n",
      "       [ 0.],\n",
      "       [ 0.],\n",
      "       [ 0.]], dtype=float32), 0.5]\n"
     ]
    }
   ],
   "source": [
    "import tensorflow as tf\n",
    "import numpy as np\n",
    "\n",
    "# input data\n",
    "x_data = np.array([[0, 0], [1, 0], [0, 1], [1, 1]], dtype = np.float32)\n",
    "y_data = np.array([[0], [1], [1], [0]], dtype=np.float32)\n",
    "\n",
    "X = tf.placeholder(tf.float32, [None, 2])\n",
    "Y = tf.placeholder(tf.float32, [None, 1])\n",
    "\n",
    "W = tf.Variable(tf.random_normal([2, 1]))\n",
    "b = tf.Variable(tf.random_normal([1]))\n",
    "\n",
    "# define hypothesis\n",
    "hypothesis = tf.sigmoid(tf.matmul(X, W) + b)\n",
    "\n",
    "# cost/loss function\n",
    "cost = - tf.reduce_mean(Y*tf.log(hypothesis)+(1-Y)*tf.log(1-hypothesis))\n",
    "\n",
    "# define gradient\n",
    "gradient = tf.train.GradientDescentOptimizer(learning_rate=0.1).minimize(cost)\n",
    "\n",
    "# Accuracy Computation\n",
    "predicted = tf.cast(hypothesis > 0.5, dtype=tf.float32)\n",
    "accuracy = tf.reduce_mean(tf.cast(tf.equal(predicted, Y), dtype=tf.float32 ))\n",
    "\n",
    "# init network\n",
    "sess = tf.Session()\n",
    "sess.run(tf.global_variables_initializer())\n",
    "\n",
    "# write main source\n",
    "for step in range(10001):\n",
    "    cost_, _ = sess.run([cost, gradient], feed_dict={X: x_data, Y: y_data})\n",
    "    \n",
    "    if step % 1000 == 0:\n",
    "        print(step, \"Cost : \", cost_)\n",
    "        \n",
    "\n",
    "# write result\n",
    "print( sess.run([hypothesis, predicted, accuracy], feed_dict={X: x_data, Y: y_data}) )\n",
    "\n",
    "sess.close()\n",
    "\n"
   ]
  },
  {
   "cell_type": "markdown",
   "metadata": {},
   "source": [
    "## Source2 - Deep"
   ]
  },
  {
   "cell_type": "code",
   "execution_count": 22,
   "metadata": {},
   "outputs": [
    {
     "name": "stdout",
     "output_type": "stream",
     "text": [
      "0 Cost :  0.757032\n",
      "1000 Cost :  0.693247\n",
      "2000 Cost :  0.690831\n",
      "3000 Cost :  0.664786\n",
      "4000 Cost :  0.520518\n",
      "5000 Cost :  0.261077\n",
      "6000 Cost :  0.100483\n",
      "7000 Cost :  0.0547692\n",
      "8000 Cost :  0.036539\n",
      "9000 Cost :  0.0271191\n",
      "10000 Cost :  0.0214502\n",
      "[array([[ 0.01642181],\n",
      "       [ 0.98086941],\n",
      "       [ 0.98086816],\n",
      "       [ 0.03012851]], dtype=float32), array([[ 0.],\n",
      "       [ 1.],\n",
      "       [ 1.],\n",
      "       [ 0.]], dtype=float32), 1.0]\n"
     ]
    }
   ],
   "source": [
    "import tensorflow as tf\n",
    "import numpy as np\n",
    "\n",
    "# input data\n",
    "x_data = np.array([[0, 0], [1, 0], [0, 1], [1, 1]], dtype = np.float32)\n",
    "y_data = np.array([[0], [1], [1], [0]], dtype=np.float32)\n",
    "\n",
    "# construct network\n",
    "X = tf.placeholder(tf.float32, [None, 2])\n",
    "Y = tf.placeholder(tf.float32, [None, 1])\n",
    "\n",
    "W1 = tf.Variable(tf.random_normal([2, 2]), dtype=tf.float32, name = 'W1')\n",
    "b1 = tf.Variable(tf.random_normal([2]), dtype=tf.float32, name = 'b1')\n",
    "\n",
    "W2 = tf.Variable(tf.random_normal([2, 1]), dtype=tf.float32, name='W2')\n",
    "b2 = tf.Variable(tf.random_normal([1]), dtype=tf.float32, name='b2')\n",
    "\n",
    "# hypothesis\n",
    "hypo1 = tf.sigmoid( tf.matmul(X, W1) + b1)\n",
    "hypothesis = tf.sigmoid( tf.matmul(hypo1, W2) + b2)\n",
    "\n",
    "# cost/loss function\n",
    "cost = - tf.reduce_mean(Y*tf.log(hypothesis)+(1-Y)*tf.log(1-hypothesis))\n",
    "\n",
    "# define gradient\n",
    "gradient = tf.train.GradientDescentOptimizer(learning_rate=0.1).minimize(cost)\n",
    "\n",
    "# Accuracy Computation\n",
    "predicted = tf.cast(hypothesis > 0.5, dtype=tf.float32)\n",
    "accuracy = tf.reduce_mean(tf.cast(tf.equal(predicted, Y), dtype=tf.float32 ))\n",
    "\n",
    "# init network\n",
    "sess = tf.Session()\n",
    "sess.run(tf.global_variables_initializer())\n",
    "\n",
    "# write main source\n",
    "for step in range(10001):\n",
    "    cost_, _ = sess.run([cost, gradient], feed_dict={X: x_data, Y: y_data})\n",
    "    \n",
    "    if step % 1000 == 0:\n",
    "        print(step, \"Cost : \", cost_)\n",
    "        \n",
    "\n",
    "# write result\n",
    "print( sess.run([hypothesis, predicted, accuracy], feed_dict={X: x_data, Y: y_data}) )\n",
    "\n",
    "sess.close()"
   ]
  },
  {
   "cell_type": "markdown",
   "metadata": {},
   "source": [
    "## Source3 - Deep2"
   ]
  },
  {
   "cell_type": "code",
   "execution_count": 25,
   "metadata": {},
   "outputs": [
    {
     "name": "stdout",
     "output_type": "stream",
     "text": [
      "0 Cost :  1.55666\n",
      "1000 Cost :  0.557924\n",
      "2000 Cost :  0.138068\n",
      "3000 Cost :  0.0499264\n",
      "4000 Cost :  0.027962\n",
      "5000 Cost :  0.0188982\n",
      "6000 Cost :  0.0140977\n",
      "7000 Cost :  0.0111665\n",
      "8000 Cost :  0.00920597\n",
      "9000 Cost :  0.00780925\n",
      "10000 Cost :  0.00676712\n",
      "[array([[ 0.00368121],\n",
      "       [ 0.99349856],\n",
      "       [ 0.99252856],\n",
      "       [ 0.00931102]], dtype=float32), array([[ 0.],\n",
      "       [ 1.],\n",
      "       [ 1.],\n",
      "       [ 0.]], dtype=float32), 1.0]\n"
     ]
    }
   ],
   "source": [
    "import tensorflow as tf\n",
    "import numpy as np\n",
    "\n",
    "# input data\n",
    "x_data = np.array([[0, 0], [1, 0], [0, 1], [1, 1]], dtype = np.float32)\n",
    "y_data = np.array([[0], [1], [1], [0]], dtype=np.float32)\n",
    "\n",
    "# construct network\n",
    "X = tf.placeholder(tf.float32, [None, 2])\n",
    "Y = tf.placeholder(tf.float32, [None, 1])\n",
    "\n",
    "W1 = tf.Variable(tf.random_normal([2, 10]), dtype=tf.float32, name = 'W1')\n",
    "b1 = tf.Variable(tf.random_normal([10]), dtype=tf.float32, name = 'b1')\n",
    "\n",
    "W2 = tf.Variable(tf.random_normal([10, 1]), dtype=tf.float32, name='W2')\n",
    "b2 = tf.Variable(tf.random_normal([1]), dtype=tf.float32, name='b2')\n",
    "\n",
    "# hypothesis\n",
    "hypo1 = tf.sigmoid( tf.matmul(X, W1) + b1)\n",
    "hypothesis = tf.sigmoid( tf.matmul(hypo1, W2) + b2)\n",
    "\n",
    "# cost/loss function\n",
    "cost = - tf.reduce_mean(Y*tf.log(hypothesis)+(1-Y)*tf.log(1-hypothesis))\n",
    "\n",
    "# define gradient\n",
    "gradient = tf.train.GradientDescentOptimizer(learning_rate=0.1).minimize(cost)\n",
    "\n",
    "# Accuracy Computation\n",
    "predicted = tf.cast(hypothesis > 0.5, dtype=tf.float32)\n",
    "accuracy = tf.reduce_mean(tf.cast(tf.equal(predicted, Y), dtype=tf.float32 ))\n",
    "\n",
    "# init network\n",
    "sess = tf.Session()\n",
    "sess.run(tf.global_variables_initializer())\n",
    "\n",
    "# write main source\n",
    "for step in range(10001):\n",
    "    cost_, _ = sess.run([cost, gradient], feed_dict={X: x_data, Y: y_data})\n",
    "    \n",
    "    if step % 1000 == 0:\n",
    "        print(step, \"Cost : \", cost_)\n",
    "        \n",
    "\n",
    "# write result\n",
    "print( sess.run([hypothesis, predicted, accuracy], feed_dict={X: x_data, Y: y_data}) )\n",
    "\n",
    "sess.close()"
   ]
  },
  {
   "cell_type": "markdown",
   "metadata": {},
   "source": [
    "## Source4 - More Deep"
   ]
  },
  {
   "cell_type": "code",
   "execution_count": 27,
   "metadata": {},
   "outputs": [
    {
     "name": "stdout",
     "output_type": "stream",
     "text": [
      "0 Cost :  1.70222\n",
      "1000 Cost :  0.666749\n",
      "2000 Cost :  0.207924\n",
      "3000 Cost :  0.0236195\n",
      "4000 Cost :  0.0102188\n",
      "5000 Cost :  0.00623641\n",
      "6000 Cost :  0.00440584\n",
      "7000 Cost :  0.00337285\n",
      "8000 Cost :  0.00271597\n",
      "9000 Cost :  0.00226417\n",
      "10000 Cost :  0.00193579\n",
      "[array([[ 0.00180289],\n",
      "       [ 0.99816775],\n",
      "       [ 0.99808121],\n",
      "       [ 0.0021805 ]], dtype=float32), array([[ 0.],\n",
      "       [ 1.],\n",
      "       [ 1.],\n",
      "       [ 0.]], dtype=float32), 1.0]\n"
     ]
    }
   ],
   "source": [
    "import tensorflow as tf\n",
    "import numpy as np\n",
    "\n",
    "# input data\n",
    "x_data = np.array([[0, 0], [1, 0], [0, 1], [1, 1]], dtype = np.float32)\n",
    "y_data = np.array([[0], [1], [1], [0]], dtype=np.float32)\n",
    "\n",
    "# construct network\n",
    "X = tf.placeholder(tf.float32, [None, 2])\n",
    "Y = tf.placeholder(tf.float32, [None, 1])\n",
    "\n",
    "W1 = tf.Variable(tf.random_normal([2, 10]), dtype=tf.float32, name = 'W1')\n",
    "b1 = tf.Variable(tf.random_normal([10]), dtype=tf.float32, name = 'b1')\n",
    "\n",
    "W2 = tf.Variable(tf.random_normal([10, 10]), dtype=tf.float32, name='W2')\n",
    "b2 = tf.Variable(tf.random_normal([10]), dtype=tf.float32, name='b2')\n",
    "\n",
    "W3 = tf.Variable(tf.random_normal([10, 10]), dtype=tf.float32, name='W3')\n",
    "b3 = tf.Variable(tf.random_normal([10]), dtype=tf.float32, name='b3')\n",
    "\n",
    "W4 = tf.Variable(tf.random_normal([10, 1]), dtype=tf.float32, name='W4')\n",
    "b4 = tf.Variable(tf.random_normal([1]), dtype=tf.float32, name='b4')\n",
    "\n",
    "# hypothesis\n",
    "hypo1 = tf.sigmoid( tf.matmul(X, W1) + b1)\n",
    "hypo2 = tf.sigmoid( tf.matmul(hypo1, W2) + b2)\n",
    "hypo3 = tf.sigmoid( tf.matmul(hypo2, W3) + b3)\n",
    "hypothesis = tf.sigmoid( tf.matmul(hypo3, W4) + b4)\n",
    "\n",
    "# cost/loss function\n",
    "cost = - tf.reduce_mean(Y*tf.log(hypothesis)+(1-Y)*tf.log(1-hypothesis))\n",
    "\n",
    "# define gradient\n",
    "gradient = tf.train.GradientDescentOptimizer(learning_rate=0.1).minimize(cost)\n",
    "\n",
    "# Accuracy Computation\n",
    "predicted = tf.cast(hypothesis > 0.5, dtype=tf.float32)\n",
    "accuracy = tf.reduce_mean(tf.cast(tf.equal(predicted, Y), dtype=tf.float32 ))\n",
    "\n",
    "# init network\n",
    "sess = tf.Session()\n",
    "sess.run(tf.global_variables_initializer())\n",
    "\n",
    "# write main source\n",
    "for step in range(10001):\n",
    "    cost_, _ = sess.run([cost, gradient], feed_dict={X: x_data, Y: y_data})\n",
    "    \n",
    "    if step % 1000 == 0:\n",
    "        print(step, \"Cost : \", cost_)\n",
    "        \n",
    "\n",
    "# write result\n",
    "print( sess.run([hypothesis, predicted, accuracy], feed_dict={X: x_data, Y: y_data}) )\n",
    "\n",
    "sess.close()"
   ]
  },
  {
   "cell_type": "code",
   "execution_count": null,
   "metadata": {
    "collapsed": true
   },
   "outputs": [],
   "source": []
  }
 ],
 "metadata": {
  "kernelspec": {
   "display_name": "tc",
   "language": "python",
   "name": "tc"
  },
  "language_info": {
   "codemirror_mode": {
    "name": "ipython",
    "version": 3
   },
   "file_extension": ".py",
   "mimetype": "text/x-python",
   "name": "python",
   "nbconvert_exporter": "python",
   "pygments_lexer": "ipython3",
   "version": "3.6.1"
  }
 },
 "nbformat": 4,
 "nbformat_minor": 2
}
